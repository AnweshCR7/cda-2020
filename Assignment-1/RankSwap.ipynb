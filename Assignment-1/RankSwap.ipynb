{
 "cells": [
  {
   "cell_type": "markdown",
   "metadata": {},
   "source": [
    "# CS4035 - Cyber Data Analytics\n",
    "## Lab 1 - Fraud data"
   ]
  },
  {
   "cell_type": "markdown",
   "metadata": {},
   "source": [
    "## Group Number : 25"
   ]
  },
  {
   "cell_type": "markdown",
   "metadata": {},
   "source": [
    "## Student 1 \n",
    "### Name : Aditya Kunar\n",
    "### ID : 5074274"
   ]
  },
  {
   "cell_type": "markdown",
   "metadata": {},
   "source": [
    "## Student 2\n",
    "### Name : Anwesh Marwade\n",
    "### ID : 5052068"
   ]
  },
  {
   "cell_type": "markdown",
   "metadata": {},
   "source": [
    "### Importing necessary libraries"
   ]
  },
  {
   "cell_type": "code",
   "execution_count": 1,
   "metadata": {},
   "outputs": [],
   "source": [
    "import numpy as np\n",
    "import pandas as pd\n",
    "import seaborn as sns\n",
    "import matplotlib.pyplot as plt\n",
    "from sklearn.preprocessing import LabelEncoder\n",
    "from pandas.plotting import register_matplotlib_converters\n",
    "register_matplotlib_converters()\n",
    "import re\n",
    "from random import randint\n",
    "import random\n",
    "from sklearn.model_selection import train_test_split\n",
    "from sklearn.preprocessing import StandardScaler\n",
    "from sklearn.naive_bayes import GaussianNB\n",
    "from sklearn.metrics import accuracy_score\n",
    "from sklearn import metrics\n",
    "from sklearn.ensemble import RandomForestClassifier\n",
    "from sklearn.linear_model import LogisticRegression\n",
    "from sklearn.metrics import confusion_matrix"
   ]
  },
  {
   "cell_type": "markdown",
   "metadata": {},
   "source": [
    "### Read the Data"
   ]
  },
  {
   "cell_type": "code",
   "execution_count": 2,
   "metadata": {},
   "outputs": [],
   "source": [
    "data = \"data_for_student_case.csv\" #modify the path here for wherever the data is.\n",
    "df1 = pd.read_csv(data)"
   ]
  },
  {
   "cell_type": "markdown",
   "metadata": {},
   "source": [
    "### A look at the data"
   ]
  },
  {
   "cell_type": "code",
   "execution_count": 3,
   "metadata": {},
   "outputs": [
    {
     "data": {
      "text/html": [
       "<div>\n",
       "<style scoped>\n",
       "    .dataframe tbody tr th:only-of-type {\n",
       "        vertical-align: middle;\n",
       "    }\n",
       "\n",
       "    .dataframe tbody tr th {\n",
       "        vertical-align: top;\n",
       "    }\n",
       "\n",
       "    .dataframe thead th {\n",
       "        text-align: right;\n",
       "    }\n",
       "</style>\n",
       "<table border=\"1\" class=\"dataframe\">\n",
       "  <thead>\n",
       "    <tr style=\"text-align: right;\">\n",
       "      <th></th>\n",
       "      <th>txid</th>\n",
       "      <th>bookingdate</th>\n",
       "      <th>issuercountrycode</th>\n",
       "      <th>txvariantcode</th>\n",
       "      <th>bin</th>\n",
       "      <th>amount</th>\n",
       "      <th>currencycode</th>\n",
       "      <th>shoppercountrycode</th>\n",
       "      <th>shopperinteraction</th>\n",
       "      <th>simple_journal</th>\n",
       "      <th>cardverificationcodesupplied</th>\n",
       "      <th>cvcresponsecode</th>\n",
       "      <th>creationdate</th>\n",
       "      <th>accountcode</th>\n",
       "      <th>mail_id</th>\n",
       "      <th>ip_id</th>\n",
       "      <th>card_id</th>\n",
       "    </tr>\n",
       "  </thead>\n",
       "  <tbody>\n",
       "    <tr>\n",
       "      <th>0</th>\n",
       "      <td>1</td>\n",
       "      <td>2015-11-09 14:26:51</td>\n",
       "      <td>MX</td>\n",
       "      <td>mccredit</td>\n",
       "      <td>530056.0</td>\n",
       "      <td>64800.0</td>\n",
       "      <td>MXN</td>\n",
       "      <td>MX</td>\n",
       "      <td>Ecommerce</td>\n",
       "      <td>Chargeback</td>\n",
       "      <td>True</td>\n",
       "      <td>0</td>\n",
       "      <td>2015-07-01 23:03:11</td>\n",
       "      <td>MexicoAccount</td>\n",
       "      <td>email68370</td>\n",
       "      <td>ip111778</td>\n",
       "      <td>card184798</td>\n",
       "    </tr>\n",
       "    <tr>\n",
       "      <th>1</th>\n",
       "      <td>2</td>\n",
       "      <td>2015-11-09 14:27:38</td>\n",
       "      <td>MX</td>\n",
       "      <td>mccredit</td>\n",
       "      <td>547046.0</td>\n",
       "      <td>44900.0</td>\n",
       "      <td>MXN</td>\n",
       "      <td>MX</td>\n",
       "      <td>Ecommerce</td>\n",
       "      <td>Chargeback</td>\n",
       "      <td>True</td>\n",
       "      <td>0</td>\n",
       "      <td>2015-07-02 04:50:55</td>\n",
       "      <td>MexicoAccount</td>\n",
       "      <td>email101299</td>\n",
       "      <td>ip78749</td>\n",
       "      <td>card151595</td>\n",
       "    </tr>\n",
       "    <tr>\n",
       "      <th>2</th>\n",
       "      <td>3</td>\n",
       "      <td>2015-11-23 16:34:16</td>\n",
       "      <td>MX</td>\n",
       "      <td>mccredit</td>\n",
       "      <td>528843.0</td>\n",
       "      <td>149900.0</td>\n",
       "      <td>MXN</td>\n",
       "      <td>MX</td>\n",
       "      <td>Ecommerce</td>\n",
       "      <td>Chargeback</td>\n",
       "      <td>True</td>\n",
       "      <td>0</td>\n",
       "      <td>2015-07-02 14:30:28</td>\n",
       "      <td>MexicoAccount</td>\n",
       "      <td>email278604</td>\n",
       "      <td>ip70594</td>\n",
       "      <td>card242142</td>\n",
       "    </tr>\n",
       "    <tr>\n",
       "      <th>3</th>\n",
       "      <td>4</td>\n",
       "      <td>2015-11-23 16:34:51</td>\n",
       "      <td>MX</td>\n",
       "      <td>mccredit</td>\n",
       "      <td>547146.0</td>\n",
       "      <td>109900.0</td>\n",
       "      <td>MXN</td>\n",
       "      <td>MX</td>\n",
       "      <td>Ecommerce</td>\n",
       "      <td>Chargeback</td>\n",
       "      <td>True</td>\n",
       "      <td>0</td>\n",
       "      <td>2015-07-03 07:53:37</td>\n",
       "      <td>MexicoAccount</td>\n",
       "      <td>email47409</td>\n",
       "      <td>ip113648</td>\n",
       "      <td>card181744</td>\n",
       "    </tr>\n",
       "    <tr>\n",
       "      <th>4</th>\n",
       "      <td>5</td>\n",
       "      <td>2015-11-09 14:26:08</td>\n",
       "      <td>MX</td>\n",
       "      <td>visaclassic</td>\n",
       "      <td>477291.0</td>\n",
       "      <td>89900.0</td>\n",
       "      <td>MXN</td>\n",
       "      <td>MX</td>\n",
       "      <td>Ecommerce</td>\n",
       "      <td>Chargeback</td>\n",
       "      <td>True</td>\n",
       "      <td>0</td>\n",
       "      <td>2015-07-08 18:35:35</td>\n",
       "      <td>MexicoAccount</td>\n",
       "      <td>email205501</td>\n",
       "      <td>ip83553</td>\n",
       "      <td>card97271</td>\n",
       "    </tr>\n",
       "  </tbody>\n",
       "</table>\n",
       "</div>"
      ],
      "text/plain": [
       "   txid          bookingdate issuercountrycode txvariantcode       bin  \\\n",
       "0     1  2015-11-09 14:26:51                MX      mccredit  530056.0   \n",
       "1     2  2015-11-09 14:27:38                MX      mccredit  547046.0   \n",
       "2     3  2015-11-23 16:34:16                MX      mccredit  528843.0   \n",
       "3     4  2015-11-23 16:34:51                MX      mccredit  547146.0   \n",
       "4     5  2015-11-09 14:26:08                MX   visaclassic  477291.0   \n",
       "\n",
       "     amount currencycode shoppercountrycode shopperinteraction simple_journal  \\\n",
       "0   64800.0          MXN                 MX          Ecommerce     Chargeback   \n",
       "1   44900.0          MXN                 MX          Ecommerce     Chargeback   \n",
       "2  149900.0          MXN                 MX          Ecommerce     Chargeback   \n",
       "3  109900.0          MXN                 MX          Ecommerce     Chargeback   \n",
       "4   89900.0          MXN                 MX          Ecommerce     Chargeback   \n",
       "\n",
       "  cardverificationcodesupplied  cvcresponsecode         creationdate  \\\n",
       "0                         True                0  2015-07-01 23:03:11   \n",
       "1                         True                0  2015-07-02 04:50:55   \n",
       "2                         True                0  2015-07-02 14:30:28   \n",
       "3                         True                0  2015-07-03 07:53:37   \n",
       "4                         True                0  2015-07-08 18:35:35   \n",
       "\n",
       "     accountcode      mail_id     ip_id     card_id  \n",
       "0  MexicoAccount   email68370  ip111778  card184798  \n",
       "1  MexicoAccount  email101299   ip78749  card151595  \n",
       "2  MexicoAccount  email278604   ip70594  card242142  \n",
       "3  MexicoAccount   email47409  ip113648  card181744  \n",
       "4  MexicoAccount  email205501   ip83553   card97271  "
      ]
     },
     "execution_count": 3,
     "metadata": {},
     "output_type": "execute_result"
    }
   ],
   "source": [
    "df1.head()"
   ]
  },
  {
   "cell_type": "markdown",
   "metadata": {},
   "source": [
    "### Data Preprocessing"
   ]
  },
  {
   "cell_type": "code",
   "execution_count": 4,
   "metadata": {},
   "outputs": [],
   "source": [
    "# Apply currency conversion so that the amounts are standardized\n",
    "def conv(row):\n",
    "    currency_dict = {0: 0.86248, 1: 1.5911, 2: 21.2829, 3: 1.6805, 4: 10.635}\n",
    "    return row['amount'] / (currency_dict[row['currencycode']]*100)\n",
    "\n",
    "def preprocess(df):\n",
    "    \n",
    "    df1 = df.copy(deep=True)\n",
    "    df1 = df1.loc[~(df1['simple_journal'] == 'Refused')] #removing the unknown class.\n",
    "    df1.loc[df1['simple_journal'] == 'Chargeback', 'simple_journal'] = 1 #fraud\n",
    "    df1.loc[df1['simple_journal'] == 'Settled', 'simple_journal'] = 0 #Normal\n",
    "    \n",
    "    #Dealing with na values by filling them with default values. \n",
    "    df1.loc[df1['cardverificationcodesupplied'].isna(),'cardverificationcodesupplied'] = False\n",
    "    df1.loc[df1['issuercountrycode'].isna(),'issuercountrycode'] = 'ZZ'\n",
    "    df1.loc[df1['shoppercountrycode'].isna(),'shoppercountrycode'] = 'ZZ'\n",
    "    df1.loc[df1['mail_id'].str.contains('na',case=False),'mail_id'] = 'email99999'\n",
    "    #3-6 is just 3 for cvcresponsecode.\n",
    "    df1.loc[df1['cvcresponsecode'] > 2,'cvcresponsecode'] = 3\n",
    "    \n",
    "    #Encoding the categorical variables.\n",
    "    bin_enc = LabelEncoder()\n",
    "    bin_enc.fit(df1['bin'].unique())\n",
    "    df1['bin'] = bin_enc.transform(df1.bin)\n",
    "\n",
    "    card_enc = LabelEncoder()\n",
    "    card_enc.fit(df1['card_id'])\n",
    "    df1['card_id'] = card_enc.transform(df1.card_id)\n",
    "\n",
    "    ip_enc = LabelEncoder()\n",
    "    ip_enc.fit(df1['ip_id'])\n",
    "    df1['ip_id'] = ip_enc.transform(df1.ip_id)\n",
    "\n",
    "    unique_issuer_cc = df1['issuercountrycode'].unique()\n",
    "    unique_shopper_cc = df1['shoppercountrycode'].unique()\n",
    "    both = np.append(unique_issuer_cc, unique_shopper_cc)\n",
    "    df_countrycodes = pd.DataFrame(both)\n",
    "    unique_codes = df_countrycodes[0].unique()\n",
    "    enc = LabelEncoder()\n",
    "    enc.fit(unique_codes)\n",
    "    df1['issuercountrycode'] = enc.transform(df1.issuercountrycode)\n",
    "    df1['shoppercountrycode'] = enc.transform(df1.shoppercountrycode)\n",
    "    \n",
    "    enc1 = LabelEncoder()\n",
    "    enc1.fit(df1['txvariantcode'])\n",
    "    df1['txvariantcode'] = enc1.transform(df1.txvariantcode)\n",
    "\n",
    "    enc2 = LabelEncoder()\n",
    "    enc2.fit(df1['currencycode'])\n",
    "    df1['currencycode'] = enc2.transform(df1.currencycode)\n",
    "\n",
    "    enc3 = LabelEncoder()\n",
    "    enc3.fit(df1['shopperinteraction'])\n",
    "    df1['shopperinteraction'] = enc3.transform(df1.shopperinteraction)\n",
    "\n",
    "    enc4 = LabelEncoder()\n",
    "    enc4.fit(df1['accountcode'])\n",
    "    df1['accountcode'] = enc4.transform(df1.accountcode)\n",
    "\n",
    "    enc5 = LabelEncoder()\n",
    "    enc5.fit(df1['cardverificationcodesupplied'])\n",
    "    df1['cardverificationcodesupplied'] = enc5.transform(df1.cardverificationcodesupplied)\n",
    "    \n",
    "    df1['creationdate'] = pd.to_datetime(df1['creationdate'])\n",
    "    df1['date'] = df1['creationdate'].dt.date\n",
    "        \n",
    "    enc6 = LabelEncoder()\n",
    "    enc6.fit(df1['mail_id'])\n",
    "    df1['mail_id'] = enc6.transform(df1.mail_id)\n",
    "\n",
    "    df1['bookingdate'] = pd.to_datetime(df1['bookingdate'])\n",
    "\n",
    "    df1['countries_equal'] = (df1['shoppercountrycode'] == df1['issuercountrycode'])\n",
    "    df1.loc[df1['countries_equal'] == False,'countries_equal'] = 0\n",
    "    df1.loc[df1['countries_equal'] == True,'countries_equal'] = 1\n",
    "\n",
    "    df1['day_of_week'] = df1['creationdate'].dt.dayofweek\n",
    "\n",
    "    df1['hour'] = df1['creationdate'].dt.hour\n",
    "    \n",
    "    dates= df1[\"creationdate\"]\n",
    "    dates=pd.DatetimeIndex(dates)\n",
    "    dates=dates.astype(np.int64) // 10**9\n",
    "    df1['creationdate_Unix']=dates\n",
    "    \n",
    "    df1['amount_eur'] = df1.apply(lambda x: conv(x), axis=1)\n",
    "    \n",
    "    return df1\n",
    "\n"
   ]
  },
  {
   "cell_type": "code",
   "execution_count": 5,
   "metadata": {},
   "outputs": [],
   "source": [
    "df = preprocess(df1)"
   ]
  },
  {
   "cell_type": "code",
   "execution_count": 6,
   "metadata": {},
   "outputs": [
    {
     "data": {
      "text/html": [
       "<div>\n",
       "<style scoped>\n",
       "    .dataframe tbody tr th:only-of-type {\n",
       "        vertical-align: middle;\n",
       "    }\n",
       "\n",
       "    .dataframe tbody tr th {\n",
       "        vertical-align: top;\n",
       "    }\n",
       "\n",
       "    .dataframe thead th {\n",
       "        text-align: right;\n",
       "    }\n",
       "</style>\n",
       "<table border=\"1\" class=\"dataframe\">\n",
       "  <thead>\n",
       "    <tr style=\"text-align: right;\">\n",
       "      <th></th>\n",
       "      <th>txid</th>\n",
       "      <th>bookingdate</th>\n",
       "      <th>issuercountrycode</th>\n",
       "      <th>txvariantcode</th>\n",
       "      <th>bin</th>\n",
       "      <th>amount</th>\n",
       "      <th>currencycode</th>\n",
       "      <th>shoppercountrycode</th>\n",
       "      <th>shopperinteraction</th>\n",
       "      <th>simple_journal</th>\n",
       "      <th>...</th>\n",
       "      <th>accountcode</th>\n",
       "      <th>mail_id</th>\n",
       "      <th>ip_id</th>\n",
       "      <th>card_id</th>\n",
       "      <th>date</th>\n",
       "      <th>countries_equal</th>\n",
       "      <th>day_of_week</th>\n",
       "      <th>hour</th>\n",
       "      <th>creationdate_Unix</th>\n",
       "      <th>amount_eur</th>\n",
       "    </tr>\n",
       "  </thead>\n",
       "  <tbody>\n",
       "    <tr>\n",
       "      <th>0</th>\n",
       "      <td>1</td>\n",
       "      <td>2015-11-09 14:26:51</td>\n",
       "      <td>104</td>\n",
       "      <td>2</td>\n",
       "      <td>1998</td>\n",
       "      <td>64800.0</td>\n",
       "      <td>2</td>\n",
       "      <td>104</td>\n",
       "      <td>1</td>\n",
       "      <td>1</td>\n",
       "      <td>...</td>\n",
       "      <td>1</td>\n",
       "      <td>187702</td>\n",
       "      <td>7386</td>\n",
       "      <td>73358</td>\n",
       "      <td>2015-07-01</td>\n",
       "      <td>1</td>\n",
       "      <td>2</td>\n",
       "      <td>23</td>\n",
       "      <td>1435791791</td>\n",
       "      <td>30.446979</td>\n",
       "    </tr>\n",
       "    <tr>\n",
       "      <th>1</th>\n",
       "      <td>2</td>\n",
       "      <td>2015-11-09 14:27:38</td>\n",
       "      <td>104</td>\n",
       "      <td>2</td>\n",
       "      <td>2364</td>\n",
       "      <td>44900.0</td>\n",
       "      <td>2</td>\n",
       "      <td>104</td>\n",
       "      <td>1</td>\n",
       "      <td>1</td>\n",
       "      <td>...</td>\n",
       "      <td>1</td>\n",
       "      <td>834</td>\n",
       "      <td>194109</td>\n",
       "      <td>44739</td>\n",
       "      <td>2015-07-02</td>\n",
       "      <td>1</td>\n",
       "      <td>3</td>\n",
       "      <td>4</td>\n",
       "      <td>1435812655</td>\n",
       "      <td>21.096749</td>\n",
       "    </tr>\n",
       "    <tr>\n",
       "      <th>2</th>\n",
       "      <td>3</td>\n",
       "      <td>2015-11-23 16:34:16</td>\n",
       "      <td>104</td>\n",
       "      <td>2</td>\n",
       "      <td>1965</td>\n",
       "      <td>149900.0</td>\n",
       "      <td>2</td>\n",
       "      <td>104</td>\n",
       "      <td>1</td>\n",
       "      <td>1</td>\n",
       "      <td>...</td>\n",
       "      <td>1</td>\n",
       "      <td>119287</td>\n",
       "      <td>189655</td>\n",
       "      <td>122802</td>\n",
       "      <td>2015-07-02</td>\n",
       "      <td>1</td>\n",
       "      <td>3</td>\n",
       "      <td>14</td>\n",
       "      <td>1435847428</td>\n",
       "      <td>70.432131</td>\n",
       "    </tr>\n",
       "    <tr>\n",
       "      <th>3</th>\n",
       "      <td>4</td>\n",
       "      <td>2015-11-23 16:34:51</td>\n",
       "      <td>104</td>\n",
       "      <td>2</td>\n",
       "      <td>2374</td>\n",
       "      <td>109900.0</td>\n",
       "      <td>2</td>\n",
       "      <td>104</td>\n",
       "      <td>1</td>\n",
       "      <td>1</td>\n",
       "      <td>...</td>\n",
       "      <td>1</td>\n",
       "      <td>173561</td>\n",
       "      <td>8254</td>\n",
       "      <td>70712</td>\n",
       "      <td>2015-07-03</td>\n",
       "      <td>1</td>\n",
       "      <td>4</td>\n",
       "      <td>7</td>\n",
       "      <td>1435910017</td>\n",
       "      <td>51.637700</td>\n",
       "    </tr>\n",
       "    <tr>\n",
       "      <th>4</th>\n",
       "      <td>5</td>\n",
       "      <td>2015-11-09 14:26:08</td>\n",
       "      <td>104</td>\n",
       "      <td>6</td>\n",
       "      <td>1301</td>\n",
       "      <td>89900.0</td>\n",
       "      <td>2</td>\n",
       "      <td>104</td>\n",
       "      <td>1</td>\n",
       "      <td>1</td>\n",
       "      <td>...</td>\n",
       "      <td>1</td>\n",
       "      <td>70647</td>\n",
       "      <td>196247</td>\n",
       "      <td>208481</td>\n",
       "      <td>2015-07-08</td>\n",
       "      <td>1</td>\n",
       "      <td>2</td>\n",
       "      <td>18</td>\n",
       "      <td>1436380535</td>\n",
       "      <td>42.240484</td>\n",
       "    </tr>\n",
       "  </tbody>\n",
       "</table>\n",
       "<p>5 rows × 23 columns</p>\n",
       "</div>"
      ],
      "text/plain": [
       "   txid         bookingdate  issuercountrycode  txvariantcode   bin    amount  \\\n",
       "0     1 2015-11-09 14:26:51                104              2  1998   64800.0   \n",
       "1     2 2015-11-09 14:27:38                104              2  2364   44900.0   \n",
       "2     3 2015-11-23 16:34:16                104              2  1965  149900.0   \n",
       "3     4 2015-11-23 16:34:51                104              2  2374  109900.0   \n",
       "4     5 2015-11-09 14:26:08                104              6  1301   89900.0   \n",
       "\n",
       "   currencycode  shoppercountrycode  shopperinteraction  simple_journal  ...  \\\n",
       "0             2                 104                   1               1  ...   \n",
       "1             2                 104                   1               1  ...   \n",
       "2             2                 104                   1               1  ...   \n",
       "3             2                 104                   1               1  ...   \n",
       "4             2                 104                   1               1  ...   \n",
       "\n",
       "   accountcode  mail_id   ip_id  card_id        date  countries_equal  \\\n",
       "0            1   187702    7386    73358  2015-07-01                1   \n",
       "1            1      834  194109    44739  2015-07-02                1   \n",
       "2            1   119287  189655   122802  2015-07-02                1   \n",
       "3            1   173561    8254    70712  2015-07-03                1   \n",
       "4            1    70647  196247   208481  2015-07-08                1   \n",
       "\n",
       "   day_of_week hour  creationdate_Unix  amount_eur  \n",
       "0            2   23         1435791791   30.446979  \n",
       "1            3    4         1435812655   21.096749  \n",
       "2            3   14         1435847428   70.432131  \n",
       "3            4    7         1435910017   51.637700  \n",
       "4            2   18         1436380535   42.240484  \n",
       "\n",
       "[5 rows x 23 columns]"
      ]
     },
     "execution_count": 6,
     "metadata": {},
     "output_type": "execute_result"
    }
   ],
   "source": [
    "df.head()"
   ]
  },
  {
   "cell_type": "code",
   "execution_count": 7,
   "metadata": {},
   "outputs": [],
   "source": [
    "df_notswapped = df.drop(columns=['txid','creationdate','bookingdate','amount','date'])"
   ]
  },
  {
   "cell_type": "code",
   "execution_count": 8,
   "metadata": {},
   "outputs": [],
   "source": [
    "#Technically rank-swapping is for ordinal values. That is basically date and amount in euros.\n",
    "#But if you wish, it can be done for the rest.\n",
    "def rank_swap(perc,column,df):\n",
    "    p = perc\n",
    "    c = column\n",
    "    sortbycol = df.sort_values(c)\n",
    "    sortedbycolindex=sortbycol.index.to_list()\n",
    "    interval = int(len(df.index)*(p/100))\n",
    "    value_list=set()\n",
    "    for i in range(len(sortedbycolindex)):\n",
    "        if i in value_list:\n",
    "            continue        \n",
    "        value = randint(0,len(sortedbycolindex)-1)\n",
    "        while(abs(i-value)>interval):\n",
    "            value = randint(0,len(sortedbycolindex)-1)\n",
    "        value_list.add(value)    \n",
    "        sortedbycolindex[i], sortedbycolindex[value] = sortedbycolindex[value], sortedbycolindex[i]\n",
    "    \n",
    "    newdf=df.reindex(sortedbycolindex)  \n",
    "    v=newdf[c]\n",
    "    df[c]=v.values\n",
    "    if c==\"amout_eur\":\n",
    "        currencycode=newdf[\"currencycode\"]\n",
    "        df[\"currencycode\"]=currencycode.values\n",
    "        \n",
    "    return df    \n",
    "    "
   ]
  },
  {
   "cell_type": "code",
   "execution_count": 9,
   "metadata": {},
   "outputs": [],
   "source": [
    "#Only those with ordinal component.\n",
    "df.drop(columns=['txid','creationdate','bookingdate','amount','date'],inplace=True)\n",
    "df = rank_swap(10,\"amount_eur\",df)\n",
    "df = rank_swap(10,\"creationdate_Unix\",df)\n",
    "df = rank_swap(10,\"day_of_week\",df)\n",
    "df = rank_swap(10,\"hour\",df)\n",
    "df_swapped= df"
   ]
  },
  {
   "cell_type": "code",
   "execution_count": 68,
   "metadata": {},
   "outputs": [],
   "source": [
    "#swapping every column.\n",
    "for i in df.columns:\n",
    "    df=rank_swap(10,i,df)"
   ]
  },
  {
   "cell_type": "code",
   "execution_count": 69,
   "metadata": {},
   "outputs": [],
   "source": [
    "df_swapped=df"
   ]
  },
  {
   "cell_type": "code",
   "execution_count": 70,
   "metadata": {},
   "outputs": [],
   "source": [
    "df1= df_notswapped\n",
    "df2= df_swapped"
   ]
  },
  {
   "cell_type": "code",
   "execution_count": 82,
   "metadata": {},
   "outputs": [],
   "source": [
    "df1.drop(columns=['issuercountrycode','bin','shoppercountrycode','mail_id', 'ip_id', 'card_id'],inplace=True)\n",
    "df2.drop(columns=['issuercountrycode','bin','shoppercountrycode','mail_id', 'ip_id', 'card_id'],inplace=True)\n"
   ]
  },
  {
   "cell_type": "code",
   "execution_count": 83,
   "metadata": {},
   "outputs": [],
   "source": [
    "X1 = df1.drop(columns=\"simple_journal\")\n",
    "y1 = df1[\"simple_journal\"]\n",
    "X2 = df2.drop(columns=\"simple_journal\")\n",
    "y2 = df2[\"simple_journal\"]\n",
    "scaler = StandardScaler()\n",
    "X1 = scaler.fit_transform(X1)\n",
    "X2 = scaler.fit_transform(X2)\n",
    "\n"
   ]
  },
  {
   "cell_type": "code",
   "execution_count": 84,
   "metadata": {},
   "outputs": [],
   "source": [
    "X1_train, X1_test, y1_train, y1_test = train_test_split(X1,y1,stratify=y1,test_size=0.33)\n",
    "X2_train, X2_test, y2_train, y2_test = train_test_split(X2,y2,stratify=y2,test_size=0.33)"
   ]
  },
  {
   "cell_type": "code",
   "execution_count": 89,
   "metadata": {},
   "outputs": [
    {
     "name": "stdout",
     "output_type": "stream",
     "text": [
      "Number of mislabeled points out of a total 78222 points : 11533\n",
      "accuracy:  0.8525606606836951\n",
      "Number of mislabeled points out of a total 78222 points : 26735\n",
      "accuracy:  0.6582163585692005\n"
     ]
    },
    {
     "data": {
      "image/png": "[encoded data removed]",
      "text/plain": [
       "<Figure size 432x288 with 1 Axes>"
      ]
     },
     "metadata": {
      "needs_background": "light"
     },
     "output_type": "display_data"
    },
    {
     "data": {
      "text/plain": [
       "((66622, 11486, 47, 67), (51375, 26733, 2, 112))"
      ]
     },
     "execution_count": 89,
     "metadata": {},
     "output_type": "execute_result"
    }
   ],
   "source": [
    "gnb = GaussianNB()\n",
    "\n",
    "y1_pred = gnb.fit(X1_train, y1_train).predict(X1_test)\n",
    "print(\"Number of mislabeled points out of a total %d points : %d\" %(X1_test.shape[0], (y1_test != y1_pred).sum()))\n",
    "print(\"accuracy: \", metrics.accuracy_score(y1_test, y1_pred))\n",
    "\n",
    "y1_pred_proba = gnb.predict_proba(X1_test)[::,1]\n",
    "fpr1, tpr1, thresholds1 = metrics.roc_curve(y1_test, y1_pred_proba)\n",
    "auc1 = metrics.roc_auc_score(y1_test, y1_pred_proba)\n",
    "plt.plot(fpr1, tpr1, label=\"AUC for not rank-swapped data= \" +str(round(auc1*100,2)))\n",
    "\n",
    "y2_pred = gnb.fit(X2_train, y2_train).predict(X2_test)\n",
    "print(\"Number of mislabeled points out of a total %d points : %d\" %(X2_test.shape[0], (y2_test != y2_pred).sum()))\n",
    "print(\"accuracy: \", metrics.accuracy_score(y2_test, y2_pred))\n",
    "\n",
    "y2_pred_proba = gnb.predict_proba(X2_test)[::,1]\n",
    "fpr2, tpr2, thresholds2 = metrics.roc_curve(y2_test, y2_pred_proba)\n",
    "auc2 = metrics.roc_auc_score(y2_test, y2_pred_proba)\n",
    "plt.plot(fpr2, tpr2, label=\"AUC for rank-swapped data \" +str(round(auc2*100,2)))\n",
    "\n",
    "plt.legend(loc=4)\n",
    "plt.show()\n",
    "\n",
    "tn1, fp1, fn1, tp1 = confusion_matrix(y1_test,y1_pred).ravel()\n",
    "tn2, fp2, fn2, tp2 = confusion_matrix(y2_test,y2_pred).ravel()\n",
    "\n",
    "(tn1, fp1, fn1, tp1),(tn2, fp2, fn2, tp2)"
   ]
  },
  {
   "cell_type": "code",
   "execution_count": 90,
   "metadata": {},
   "outputs": [
    {
     "name": "stdout",
     "output_type": "stream",
     "text": [
      "Number of mislabeled points out of a total 78222 points : 528\n",
      "accuracy:  0.9932499808238091\n",
      "Number of mislabeled points out of a total 78222 points : 175\n",
      "accuracy:  0.997762777735164\n"
     ]
    },
    {
     "data": {
      "image/png": "[encoded data removed]",
      "text/plain": [
       "<Figure size 432x288 with 1 Axes>"
      ]
     },
     "metadata": {
      "needs_background": "light"
     },
     "output_type": "display_data"
    },
    {
     "data": {
      "text/plain": [
       "((77665, 443, 85, 29), (78046, 62, 113, 1))"
      ]
     },
     "execution_count": 90,
     "metadata": {},
     "output_type": "execute_result"
    }
   ],
   "source": [
    "clf = RandomForestClassifier(max_depth=2, random_state=0)\n",
    "\n",
    "y1_pred = clf.fit(X1_train, y1_train).predict(X1_test)\n",
    "print(\"Number of mislabeled points out of a total %d points : %d\" %(X1_test.shape[0], (y1_test != y1_pred).sum()))\n",
    "print(\"accuracy: \", metrics.accuracy_score(y1_test, y1_pred))\n",
    "\n",
    "y1_pred_proba = clf.predict_proba(X1_test)[::,1]\n",
    "fpr1, tpr1, thresholds1 = metrics.roc_curve(y1_test, y1_pred_proba)\n",
    "auc1 = metrics.roc_auc_score(y1_test, y1_pred_proba)\n",
    "plt.plot(fpr1, tpr1, label=\"AUC for not rank-swapped data= \" +str(round(auc1*100,2)))\n",
    "\n",
    "y2_pred = clf.fit(X2_train, y2_train).predict(X2_test)\n",
    "print(\"Number of mislabeled points out of a total %d points : %d\" %(X2_test.shape[0], (y2_test != y2_pred).sum()))\n",
    "print(\"accuracy: \", metrics.accuracy_score(y2_test, y2_pred))\n",
    "\n",
    "y2_pred_proba = clf.predict_proba(X2_test)[::,1]\n",
    "fpr2, tpr2, thresholds2 = metrics.roc_curve(y2_test, y2_pred_proba)\n",
    "auc2 = metrics.roc_auc_score(y2_test, y2_pred_proba)\n",
    "plt.plot(fpr2, tpr2, label=\"AUC for rank-swapped data \" +str(round(auc2*100,2)))\n",
    "\n",
    "plt.legend(loc=4)\n",
    "plt.show()\n",
    "\n",
    "tn1, fp1, fn1, tp1 = confusion_matrix(y1_test,y1_pred).ravel()\n",
    "tn2, fp2, fn2, tp2 = confusion_matrix(y2_test,y2_pred).ravel()\n",
    "\n",
    "(tn1, fp1, fn1, tp1),(tn2, fp2, fn2, tp2)"
   ]
  },
  {
   "cell_type": "code",
   "execution_count": 91,
   "metadata": {},
   "outputs": [
    {
     "name": "stdout",
     "output_type": "stream",
     "text": [
      "Number of mislabeled points out of a total 78222 points : 2049\n",
      "accuracy:  0.9738053233105776\n",
      "Number of mislabeled points out of a total 78222 points : 3448\n",
      "accuracy:  0.9559203293191174\n"
     ]
    },
    {
     "data": {
      "image/png": "[encoded data removed]",
      "text/plain": [
       "<Figure size 432x288 with 1 Axes>"
      ]
     },
     "metadata": {
      "needs_background": "light"
     },
     "output_type": "display_data"
    },
    {
     "data": {
      "text/plain": [
       "((76123, 1985, 64, 50), (74725, 3383, 65, 49))"
      ]
     },
     "execution_count": 91,
     "metadata": {},
     "output_type": "execute_result"
    }
   ],
   "source": [
    "clf = LogisticRegression(random_state=0)\n",
    "\n",
    "y1_pred = clf.fit(X1_train, y1_train).predict(X1_test)\n",
    "print(\"Number of mislabeled points out of a total %d points : %d\" %(X1_test.shape[0], (y1_test != y1_pred).sum()))\n",
    "print(\"accuracy: \", metrics.accuracy_score(y1_test, y1_pred))\n",
    "\n",
    "y1_pred_proba = clf.predict_proba(X1_test)[::,1]\n",
    "fpr1, tpr1, thresholds1 = metrics.roc_curve(y1_test, y1_pred_proba)\n",
    "auc1 = metrics.roc_auc_score(y1_test, y1_pred_proba)\n",
    "plt.plot(fpr1, tpr1, label=\"AUC for not rank-swapped data= \" +str(round(auc1*100,2)))\n",
    "\n",
    "y2_pred = clf.fit(X2_train, y2_train).predict(X2_test)\n",
    "print(\"Number of mislabeled points out of a total %d points : %d\" %(X2_test.shape[0], (y2_test != y2_pred).sum()))\n",
    "print(\"accuracy: \", metrics.accuracy_score(y2_test, y2_pred))\n",
    "\n",
    "y2_pred_proba = clf.predict_proba(X2_test)[::,1]\n",
    "fpr2, tpr2, thresholds2 = metrics.roc_curve(y2_test, y2_pred_proba)\n",
    "auc2 = metrics.roc_auc_score(y2_test, y2_pred_proba)\n",
    "plt.plot(fpr2, tpr2, label=\"AUC for rank-swapped data \" +str(round(auc2*100,2)))\n",
    "\n",
    "plt.legend(loc=4)\n",
    "plt.show()\n",
    "\n",
    "\n",
    "tn1, fp1, fn1, tp1 = confusion_matrix(y1_test,y1_pred).ravel()\n",
    "tn2, fp2, fn2, tp2 = confusion_matrix(y2_test,y2_pred).ravel()\n",
    "\n",
    "(tn1, fp1, fn1, tp1),(tn2, fp2, fn2, tp2)"
   ]
  },
  {
   "cell_type": "code",
   "execution_count": 88,
   "metadata": {},
   "outputs": [],
   "source": [
    "#subsampling\n",
    "posindex=[]\n",
    "for i in enumerate(y1_train):\n",
    "    if i[1]==1:\n",
    "        posindex.append(i[0])\n",
    "fullindex=list(range(0,len(y1_train)))\n",
    "sampleindex= list(set(fullindex)-set(posindex))\n",
    "randomlist = random.sample(range(0, len(sampleindex)),2079)\n",
    "randomlist.extend(posindex)\n",
    "X1_train=(X1_train[randomlist])\n",
    "y1_train=np.array(y1_train)\n",
    "y1_train=y1_train[randomlist]\n",
    "posindex=[]\n",
    "for i in enumerate(y2_train):\n",
    "    if i[1]==1:\n",
    "        posindex.append(i[0])\n",
    "fullindex=list(range(0,len(y2_train)))\n",
    "sampleindex= list(set(fullindex)-set(posindex))\n",
    "randomlist = random.sample(range(0, len(sampleindex)),2079)\n",
    "randomlist.extend(posindex)\n",
    "X2_train=(X2_train[randomlist])\n",
    "y2_train=np.array(y2_train)\n",
    "y2_train=y2_train[randomlist]\n"
   ]
  },
  {
   "cell_type": "code",
   "execution_count": null,
   "metadata": {},
   "outputs": [],
   "source": []
  }
 ],
 "metadata": {
  "kernelspec": {
   "display_name": "Python 3",
   "language": "python",
   "name": "python3"
  },
  "language_info": {
   "codemirror_mode": {
    "name": "ipython",
    "version": 3
   },
   "file_extension": ".py",
   "mimetype": "text/x-python",
   "name": "python",
   "nbconvert_exporter": "python",
   "pygments_lexer": "ipython3",
   "version": "3.7.3"
  }
 },
 "nbformat": 4,
 "nbformat_minor": 2
}
