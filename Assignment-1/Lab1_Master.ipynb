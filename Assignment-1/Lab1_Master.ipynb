{
 "cells": [
  {
   "cell_type": "markdown",
   "metadata": {},
   "source": [
    "# CS4035 - Cyber Data Analytics\n",
    "## Lab 1 - Fraud data"
   ]
  },
  {
   "cell_type": "markdown",
   "metadata": {},
   "source": [
    "## Group Number : 25"
   ]
  },
  {
   "cell_type": "markdown",
   "metadata": {},
   "source": [
    "## Student 1 \n",
    "### Name : Aditya Kunar\n",
    "### ID : 5074274"
   ]
  },
  {
   "cell_type": "markdown",
   "metadata": {},
   "source": [
    "## Student 2\n",
    "### Name : Anwesh Marwade\n",
    "### ID : 5052068"
   ]
  },
  {
   "cell_type": "markdown",
   "metadata": {},
   "source": [
    "### Readme - Running our code is pretty straightforward. The comments will explicitely state what to do further down wherever human input is required. For running our code, you'll need sklearn, matplotlib, seaborn, pandas,numpy, random and re which are commonly used libraries which you will probably have installed. Lastly, the only data you'll need is what was initially provided to us all in brightspace. \n"
   ]
  },
  {
   "cell_type": "markdown",
   "metadata": {},
   "source": [
    "### Importing necessary libraries"
   ]
  },
  {
   "cell_type": "code",
   "execution_count": 1,
   "metadata": {},
   "outputs": [],
   "source": [
    "import numpy as np\n",
    "import pandas as pd\n",
    "import seaborn as sns\n",
    "import matplotlib.pyplot as plt\n",
    "from sklearn.preprocessing import LabelEncoder\n",
    "from pandas.plotting import register_matplotlib_converters\n",
    "register_matplotlib_converters()\n",
    "import re\n",
    "from random import randint\n",
    "import random\n",
    "from sklearn.preprocessing import LabelEncoder\n",
    "from sklearn.neighbors import NearestNeighbors\n",
    "from sklearn.model_selection import train_test_split\n",
    "from sklearn.preprocessing import MinMaxScaler\n",
    "from sklearn.naive_bayes import ComplementNB\n",
    "from sklearn import metrics\n",
    "from sklearn.metrics import accuracy_score\n",
    "from sklearn.metrics import confusion_matrix\n",
    "from sklearn.metrics import roc_curve\n",
    "from sklearn.ensemble import RandomForestClassifier\n",
    "from sklearn.linear_model import LogisticRegression\n",
    "from sklearn.ensemble import (RandomTreesEmbedding, RandomForestClassifier,\n",
    "                              GradientBoostingClassifier)\n",
    "from sklearn.pipeline import make_pipeline"
   ]
  },
  {
   "cell_type": "markdown",
   "metadata": {},
   "source": [
    "### Reading in the Data (The one provided to us in brightspace.)"
   ]
  },
  {
   "cell_type": "code",
   "execution_count": 2,
   "metadata": {},
   "outputs": [],
   "source": [
    "data = \"data_for_student_case.csv\" #Provide the path to the data here.\n",
    "df_OG = pd.read_csv(data)"
   ]
  },
  {
   "cell_type": "markdown",
   "metadata": {},
   "source": [
    "### Preprocessing "
   ]
  },
  {
   "cell_type": "code",
   "execution_count": 3,
   "metadata": {},
   "outputs": [],
   "source": [
    "# Apply currency conversion so that the amounts are standardized\n",
    "def conv(row):\n",
    "    currency_dict = {0: 0.86248, 1: 1.5911, 2: 21.2829, 3: 1.6805, 4: 10.635}\n",
    "    return row['amount'] / (currency_dict[row['currencycode']]*100)\n",
    "\n",
    "def preprocess(df):\n",
    "    # Here we simply remove the refuse class from our dataframe.\n",
    "    df1 = df.copy(deep=True)\n",
    "    df1 = df1.loc[~(df1['simple_journal'] == 'Refused')] #removing the unknown class.\n",
    "    df1.loc[df1['simple_journal'] == 'Chargeback', 'simple_journal'] = 1 #fraud\n",
    "    df1.loc[df1['simple_journal'] == 'Settled', 'simple_journal'] = 0 #Normal\n",
    "    \n",
    "    #Dealing with na values by filling them with default values. \n",
    "    df1.loc[df1['cardverificationcodesupplied'].isna(),'cardverificationcodesupplied'] = False\n",
    "    df1.loc[df1['issuercountrycode'].isna(),'issuercountrycode'] = 'ZZ'\n",
    "    df1.loc[df1['shoppercountrycode'].isna(),'shoppercountrycode'] = 'ZZ'\n",
    "    df1.loc[df1['mail_id'].str.contains('na',case=False),'mail_id'] = 'email99999'\n",
    "    \n",
    "    #3-6 is made to be 3 for cvcresponsecode variable.\n",
    "    df1.loc[df1['cvcresponsecode'] > 2,'cvcresponsecode'] = 3\n",
    "    \n",
    "    #Encoding the categorical variables.\n",
    "    bin_enc = LabelEncoder()\n",
    "    bin_enc.fit(df1['bin'].unique())\n",
    "    df1['bin'] = bin_enc.transform(df1.bin)\n",
    "\n",
    "    card_enc = LabelEncoder()\n",
    "    card_enc.fit(df1['card_id'])\n",
    "    df1['card_id'] = card_enc.transform(df1.card_id)\n",
    "\n",
    "    ip_enc = LabelEncoder()\n",
    "    ip_enc.fit(df1['ip_id'])\n",
    "    df1['ip_id'] = ip_enc.transform(df1.ip_id)\n",
    "\n",
    "    unique_issuer_cc = df1['issuercountrycode'].unique()\n",
    "    unique_shopper_cc = df1['shoppercountrycode'].unique()\n",
    "    both = np.append(unique_issuer_cc, unique_shopper_cc)\n",
    "    df_countrycodes = pd.DataFrame(both)\n",
    "    unique_codes = df_countrycodes[0].unique()\n",
    "    enc = LabelEncoder()\n",
    "    enc.fit(unique_codes)\n",
    "    df1['issuercountrycode'] = enc.transform(df1.issuercountrycode)\n",
    "    df1['shoppercountrycode'] = enc.transform(df1.shoppercountrycode)\n",
    "    \n",
    "    enc = LabelEncoder()\n",
    "    enc.fit(df1['txvariantcode'])\n",
    "    df1['txvariantcode'] = enc.transform(df1.txvariantcode)\n",
    "\n",
    "    enc = LabelEncoder()\n",
    "    enc.fit(df1['currencycode'])\n",
    "    df1['currencycode'] = enc.transform(df1.currencycode)\n",
    "\n",
    "    enc = LabelEncoder()\n",
    "    enc.fit(df1['shopperinteraction'])\n",
    "    df1['shopperinteraction'] = enc.transform(df1.shopperinteraction)\n",
    "\n",
    "    enc = LabelEncoder()\n",
    "    enc.fit(df1['accountcode'])\n",
    "    df1['accountcode'] = enc.transform(df1.accountcode)\n",
    "\n",
    "    enc = LabelEncoder()\n",
    "    enc.fit(df1['cardverificationcodesupplied'])\n",
    "    df1['cardverificationcodesupplied'] = enc.transform(df1.cardverificationcodesupplied)\n",
    "    \n",
    "    enc = LabelEncoder()\n",
    "    enc.fit(df1['mail_id'])\n",
    "    df1['mail_id'] = enc.transform(df1.mail_id)\n",
    "\n",
    "    \n",
    "    df1['countries_equal'] = (df1['shoppercountrycode'] == df1['issuercountrycode'])\n",
    "    df1.loc[df1['countries_equal'] == False,'countries_equal'] = 0\n",
    "    df1.loc[df1['countries_equal'] == True,'countries_equal'] = 1\n",
    "\n",
    "    #Converting creation and booking date to datestamps.\n",
    "    df1['creationdate'] = pd.to_datetime(df1['creationdate'])\n",
    "    df1['bookingdate'] = pd.to_datetime(df1['bookingdate'])\n",
    "    \n",
    "    #Obtaining the day of week and hour of transactions using date timestamps. \n",
    "    df1['date'] = df1['creationdate'].dt.date \n",
    "    df1['day_of_week'] = df1['creationdate'].dt.dayofweek\n",
    "    df1['hour'] = df1['creationdate'].dt.hour\n",
    "    \n",
    "    #converting creation date to unix_timestap.\n",
    "    dates= df1[\"creationdate\"]\n",
    "    dates=pd.DatetimeIndex(dates)\n",
    "    dates=dates.astype(np.int64) // 10**9\n",
    "    df1['creationdate_Unix']=dates\n",
    "    \n",
    "    #Standardizing amount to a single currency.\n",
    "    df1['amount_eur'] = df1.apply(lambda x: conv(x), axis=1)\n",
    "    #df1 = df1.loc[~((df1['simple_journal'] == 0)&(df1['amount_eur']>320))]\n",
    "    return df1\n",
    "# Pre-processing the dataframe.\n",
    "df1=preprocess(df_OG)"
   ]
  },
  {
   "cell_type": "markdown",
   "metadata": {},
   "source": [
    "### Transaction Class distributions."
   ]
  },
  {
   "cell_type": "code",
   "execution_count": 4,
   "metadata": {},
   "outputs": [
    {
     "name": "stdout",
     "output_type": "stream",
     "text": [
      "Number of total data points = 237036\n",
      "Number of fradulent transactions = 345\n",
      "Number of valid transactions = 236691\n"
     ]
    }
   ],
   "source": [
    "print(\"Number of total data points = \" + str(len(df1.index)))\n",
    "print(\"Number of fradulent transactions = \" + str(len(df1.loc[df1['simple_journal'] == 1])))\n",
    "print(\"Number of valid transactions = \" + str(len(df1.loc[df1['simple_journal'] == 0])))  "
   ]
  },
  {
   "cell_type": "markdown",
   "metadata": {},
   "source": [
    "## 1. Visualization task "
   ]
  },
  {
   "cell_type": "markdown",
   "metadata": {},
   "source": [
    "#### I) Account Code and Number of Fraud"
   ]
  },
  {
   "cell_type": "code",
   "execution_count": 5,
   "metadata": {},
   "outputs": [
    {
     "data": {
      "image/png": "[encoded data removed]",
      "text/plain": [
       "<Figure size 410.4x307.44 with 1 Axes>"
      ]
     },
     "metadata": {},
     "output_type": "display_data"
    }
   ],
   "source": [
    "sns.set(rc={'figure.figsize':(5.7,4.27)})\n",
    "flatui = [\"#e74c3c\",\"#3498db\", \"#2ecc71\"]\n",
    "ax = sns.countplot(x=\"accountcode\", hue=\"simple_journal\", data=df1, palette=flatui)\n",
    "ax.set_title('Txn count analysis based on account_code')\n",
    "ax.grid(color='#cccccc')\n",
    "ax.set_ylabel('Count')\n",
    "ax.set_xlabel('Account Code')\n",
    "ax.set(xticklabels=[\"APAC_Account\",\"Mexico_Account\",\"Sweden_Account\",\"UK_Account\"])\n",
    "ax.legend([\"Normal\",\"Fraud\"]) \n",
    "max_height = 0\n",
    "\n",
    "\n",
    "for p in ax.patches:\n",
    "    if p.get_height() > max_height:\n",
    "        max_height = p.get_height()\n",
    "    \n",
    "for p in ax.patches:\n",
    "    height = p.get_height()\n",
    "    ax.text(p.get_x()+p.get_width()/2,\n",
    "            height + 0.01*max_height,'{:1d}'.format(height),\n",
    "            ha=\"center\",size=14)"
   ]
  },
  {
   "cell_type": "markdown",
   "metadata": {},
   "source": [
    "#### Description-Based on this barchart, we see that there is an uneven distribution of fraud and non fraud cases from the different accounts in our dataset. We also observe that the majority of fraud cases originate from the Mexico account even though the majority transactions have occured from the UK account. "
   ]
  },
  {
   "cell_type": "markdown",
   "metadata": {},
   "source": [
    "#### II) Amount in Euros Distribution for Fraud vs Normal"
   ]
  },
  {
   "cell_type": "code",
   "execution_count": 6,
   "metadata": {},
   "outputs": [
    {
     "data": {
      "image/png": "[encoded data removed]",
      "text/plain": [
       "<Figure size 1080x216 with 2 Axes>"
      ]
     },
     "metadata": {},
     "output_type": "display_data"
    }
   ],
   "source": [
    "df_f = df1.loc[df1.simple_journal==1]\n",
    "df_nf = df1.loc[df1.simple_journal==0]\n",
    "nf_amt=df_nf.amount_eur.values\n",
    "f_amt=df_f.amount_eur.values \n",
    "f, (ax1, ax2) = plt.subplots(1,2,figsize =(15, 3))\n",
    "sns.boxplot(f_amt,ax=ax1)\n",
    "ax1.set_title('Fraud')\n",
    "sns.boxplot(nf_amt,ax=ax2)\n",
    "ax2.set_title('Normal')\n",
    "ax2.set_xlabel(\"Amount In Euros\")\n",
    "ax1.set_xlabel(\"Amount In Euros\")\n",
    "plt.show()"
   ]
  },
  {
   "cell_type": "markdown",
   "metadata": {},
   "source": [
    "#### Description- We observe from the boxplots that fruadulent transactions have a wider interquartile range than non fraudulent cases with respect to amount in euros spent per transaction. And so, the distribution of amount in euros for fraud generally seems to be higher than non fraud cases as indicated by the two medians as well. But we need to keep in mind that there are many outliers for non-fraud transactions. "
   ]
  },
  {
   "cell_type": "markdown",
   "metadata": {},
   "source": [
    "#### III) Temporal relationship between Currency_code and number of fraudulent transactions"
   ]
  },
  {
   "cell_type": "code",
   "execution_count": 7,
   "metadata": {},
   "outputs": [
    {
     "data": {
      "image/png": "[encoded data removed]",
      "text/plain": [
       "<Figure size 864x576 with 5 Axes>"
      ]
     },
     "metadata": {},
     "output_type": "display_data"
    }
   ],
   "source": [
    "df_GBP=df1.loc[df1[\"currencycode\"]==0]\n",
    "df_AUD=df1.loc[df1[\"currencycode\"]==1]\n",
    "df_MXN=df1.loc[df1[\"currencycode\"]==2]\n",
    "df_NZD=df1.loc[df1[\"currencycode\"]==3]\n",
    "df_SEK=df1.loc[df1[\"currencycode\"]==4]\n",
    "\n",
    "df_GBP = df_GBP[['date','simple_journal']].groupby(['date']).sum()\n",
    "df_AUD = df_AUD[['date','simple_journal']].groupby(['date']).sum()\n",
    "df_MXN = df_MXN[['date','simple_journal']].groupby(['date']).sum()\n",
    "df_NZD = df_NZD[['date','simple_journal']].groupby(['date']).sum()\n",
    "df_SEK = df_SEK[['date','simple_journal']].groupby(['date']).sum()\n",
    "\n",
    "#len(df4.loc[df4['simple_journal'] > 0])\n",
    "\n",
    "f, (ax1,ax2,ax3,ax4,ax5) = plt.subplots(5,1,figsize =(12, 8))\n",
    "sns.lineplot(x=df_GBP.index,y=df_GBP['simple_journal'],ax=ax1)\n",
    "ax1.set(ylabel = \"Num Frauds\")\n",
    "ax1.set_title(\"CurrecyCode-GBP\")\n",
    "sns.lineplot(x=df_AUD.index,y=df_AUD['simple_journal'],ax=ax2)\n",
    "ax2.set(ylabel = \"Num Frauds\")\n",
    "ax2.set_title(\"CurrecyCode-AUD\")\n",
    "sns.lineplot(x=df_MXN.index,y=df_MXN['simple_journal'],ax=ax3)\n",
    "ax3.set(ylabel = \"Num Frauds\")\n",
    "ax3.set_title(\"CurrecyCode-MXN\")\n",
    "sns.lineplot(x=df_NZD.index,y=df_NZD['simple_journal'],ax=ax4)\n",
    "ax4.set(ylabel = \"Num Frauds\")\n",
    "ax4.set_title(\"CurrecyCode-NZD\")\n",
    "sns.lineplot(x=df_SEK.index,y=df_SEK['simple_journal'],ax=ax5)\n",
    "ax5.set(ylabel = \"Num Frauds\")\n",
    "ax5.set_title(\"CurrecyCode-SEK\")\n",
    "plt.subplots_adjust(hspace=1)\n",
    "plt.show()"
   ]
  },
  {
   "cell_type": "markdown",
   "metadata": {},
   "source": [
    "#### Description- Based on the lineplots above, first we see that fraudulent transactions happen more frequently for the GBP and MXN currency codes. Secondly, we do not see any significant overlaps between dates on which most currency codes show high number of fraud cases suggesting that date is not a common denominator when it comes to fraudulent transactions."
   ]
  },
  {
   "cell_type": "markdown",
   "metadata": {},
   "source": [
    "#### IV) Difference in mean amount in euros with respect to cvcresponse code for fraud and non fraud cases."
   ]
  },
  {
   "cell_type": "code",
   "execution_count": 8,
   "metadata": {},
   "outputs": [
    {
     "data": {
      "image/png": "[encoded data removed]",
      "text/plain": [
       "<Figure size 648x288 with 2 Axes>"
      ]
     },
     "metadata": {},
     "output_type": "display_data"
    }
   ],
   "source": [
    "dff= df1.loc[df1[\"simple_journal\"]==1]\n",
    "df_nf=df1.loc[df1[\"simple_journal\"]==0]\n",
    "df5 = dff[['cvcresponsecode','amount_eur']].groupby(['cvcresponsecode']).mean()\n",
    "df6 = df_nf[['cvcresponsecode','amount_eur']].groupby(['cvcresponsecode']).mean()\n",
    "f, (ax1,ax2) = plt.subplots(1,2,figsize =(9, 4))\n",
    "sns.barplot(x=df5.index,y=df5['amount_eur'],ax=ax2)\n",
    "ax2.set(ylabel = \"Mean_Amount_Euros\")\n",
    "ax2.set_title(\"Fraud\")\n",
    "sns.barplot(x=df6.index,y=df6['amount_eur'],ax=ax1)\n",
    "ax1.set(ylabel = \"Mean_Amount_Euros\")\n",
    "ax1.set_title(\"Normal\")\n",
    "\n",
    "plt.show()"
   ]
  },
  {
   "cell_type": "markdown",
   "metadata": {},
   "source": [
    "#### Description- Based on the barcharts shown above we can see that for normal transactions, the mean amount in euros is higher for cvcresponsecode 0 which corresponds to unknown, however for fraud cases, the mean amount in euros is higher for cvcresponsecode 1 which corresponds to a match found. This suggests that fraudsters are good at disguising their transactions as real ones. We also note that the mean amount in terms of euros is actually also much higher for fraud cases than non fraud transactions. This can be explained with respect to the boxplots we saw previously."
   ]
  },
  {
   "cell_type": "markdown",
   "metadata": {},
   "source": [
    "#### V) Percentage fraud cases associated with cvcresponsecode for local vs international transactions"
   ]
  },
  {
   "cell_type": "code",
   "execution_count": 9,
   "metadata": {},
   "outputs": [
    {
     "data": {
      "image/png": "[encoded data removed]",
      "text/plain": [
       "<Figure size 648x288 with 2 Axes>"
      ]
     },
     "metadata": {},
     "output_type": "display_data"
    }
   ],
   "source": [
    "dff= df1.loc[df1[\"countries_equal\"]==1]\n",
    "df_nf=df1.loc[df1[\"countries_equal\"]==0]\n",
    "df5 = dff[['cvcresponsecode','simple_journal']].groupby(['cvcresponsecode']).sum()\n",
    "total=df5[\"simple_journal\"].sum()\n",
    "df5[\"simple_journal\"]=(df5[\"simple_journal\"]/total)*100\n",
    "df6 = df_nf[['cvcresponsecode','simple_journal']].groupby(['cvcresponsecode']).sum()\n",
    "total=df6[\"simple_journal\"].sum()\n",
    "df6[\"simple_journal\"]=(df6[\"simple_journal\"]/total)*100\n",
    "f, (ax1,ax2) = plt.subplots(1,2,figsize =(9, 4))\n",
    "sns.barplot(x=df5.index,y=df5['simple_journal'],ax=ax2)\n",
    "ax2.set(ylabel = \"(Percentage of Total) Number of Frauds\")\n",
    "ax2.set_title(\"Countries are Equal\")\n",
    "sns.barplot(x=df6.index,y=df6['simple_journal'],ax=ax1)\n",
    "ax1.set(ylabel = \"(Percentage of Total) Number of Frauds\")\n",
    "ax1.set_title(\"Countries not equal\")\n",
    "plt.show()"
   ]
  },
  {
   "cell_type": "markdown",
   "metadata": {},
   "source": [
    "#### Description- Based on the barcharts shown above we can see that for international transactions the percentage of fraud cases with a cvcresponsecode of 1 is higher whereas for local transactions, the cvcresponsecode with a value of 0 is the majority. "
   ]
  },
  {
   "cell_type": "markdown",
   "metadata": {},
   "source": [
    "#### VI) Issuercountrycode and mean amount in euros for fraud vs normal transactions."
   ]
  },
  {
   "cell_type": "code",
   "execution_count": 10,
   "metadata": {},
   "outputs": [
    {
     "data": {
      "image/png": "[encoded data removed]",
      "text/plain": [
       "<Figure size 1080x360 with 2 Axes>"
      ]
     },
     "metadata": {},
     "output_type": "display_data"
    }
   ],
   "source": [
    "dff= df1.loc[df1[\"simple_journal\"]==1]\n",
    "df_nf=df1.loc[(df1[\"simple_journal\"]==0) & (df1[\"issuercountrycode\"].isin([9,22,40,49,52,64,75,104,105,108,109,111,131,137,146]))]\n",
    "df5 = dff[['issuercountrycode','amount_eur']].groupby(['issuercountrycode']).mean()\n",
    "df6 = df_nf[['issuercountrycode','amount_eur']].groupby(['issuercountrycode']).mean()\n",
    "f, (ax1,ax2) = plt.subplots(1,2,figsize =(15, 5))\n",
    "sns.barplot(x=df5.index,y=df5['amount_eur'],ax=ax2)\n",
    "ax2.set(ylabel = \"Mean_Amount_Euros\")\n",
    "ax2.set_title(\"Fraud\")\n",
    "sns.barplot(x=df6.index,y=df6['amount_eur'],ax=ax1)\n",
    "ax1.set(ylabel = \"Mean_Amount_Euros\")\n",
    "ax1.set_title(\"Normal\")\n",
    "plt.show()"
   ]
  },
  {
   "cell_type": "markdown",
   "metadata": {},
   "source": [
    "#### Description- Based on the barchart, we first see that fraudulent transactions actually have a higher mean amount in most countries than normal transactions. We also see that the distribution of spending for different countries is not homogenous with the highest mean amount in euros for fraud occuring in issuer_country_codes 49 and 9."
   ]
  },
  {
   "cell_type": "markdown",
   "metadata": {},
   "source": [
    "#### VII) TxVariant and Mean Amount in Euros for normal and fraud cases"
   ]
  },
  {
   "cell_type": "code",
   "execution_count": 11,
   "metadata": {},
   "outputs": [
    {
     "data": {
      "image/png": "[encoded data removed]",
      "text/plain": [
       "<Figure size 1080x288 with 2 Axes>"
      ]
     },
     "metadata": {},
     "output_type": "display_data"
    }
   ],
   "source": [
    "df2 = df1.loc[df1[\"simple_journal\"]==1][['txvariantcode','amount_eur']].groupby(['txvariantcode']).mean()\n",
    "f, (ax1,ax2) = plt.subplots(1,2,figsize =(15, 4))\n",
    "sns.barplot(x=df2.index,y=df2['amount_eur'],ax=ax1)\n",
    "ax1.set(ylabel = \"Mean Amount in Euros\")\n",
    "ax1.set_xlabel('TxVariant_Code')\n",
    "ax1.set_title(\"Fraud\")\n",
    "df2 = df1.loc[df1[\"simple_journal\"]==0][['txvariantcode','amount_eur']].groupby(['txvariantcode']).mean()\n",
    "sns.set(style=\"whitegrid\")\n",
    "sns.barplot(x=df2.index,y=df2['amount_eur'],ax=ax2)\n",
    "ax2.set(ylabel = \"Mean Amount in Euros\")\n",
    "ax2.set_xlabel('TxVariant_Code')\n",
    "ax2.set_title(\"Normal\")\n",
    "plt.show()"
   ]
  },
  {
   "cell_type": "markdown",
   "metadata": {},
   "source": [
    "#### Description- The above barchart showcases the differences in mean amount in euros for the different txvariant_codes. We similarly see a common trend that mean amount in euros is usually higher for fraudulent transactions. We also see that TxVariant_codes 5 and 4 have the highest mean amount in euros with respect to fraud. "
   ]
  },
  {
   "cell_type": "markdown",
   "metadata": {},
   "source": [
    "## 3. Privacy task – 1 A4 – Individual"
   ]
  },
  {
   "cell_type": "code",
   "execution_count": 12,
   "metadata": {},
   "outputs": [
    {
     "data": {
      "text/html": [
       "<div>\n",
       "<style scoped>\n",
       "    .dataframe tbody tr th:only-of-type {\n",
       "        vertical-align: middle;\n",
       "    }\n",
       "\n",
       "    .dataframe tbody tr th {\n",
       "        vertical-align: top;\n",
       "    }\n",
       "\n",
       "    .dataframe thead th {\n",
       "        text-align: right;\n",
       "    }\n",
       "</style>\n",
       "<table border=\"1\" class=\"dataframe\">\n",
       "  <thead>\n",
       "    <tr style=\"text-align: right;\">\n",
       "      <th></th>\n",
       "      <th>txid</th>\n",
       "      <th>bookingdate</th>\n",
       "      <th>issuercountrycode</th>\n",
       "      <th>txvariantcode</th>\n",
       "      <th>bin</th>\n",
       "      <th>amount</th>\n",
       "      <th>currencycode</th>\n",
       "      <th>shoppercountrycode</th>\n",
       "      <th>shopperinteraction</th>\n",
       "      <th>simple_journal</th>\n",
       "      <th>...</th>\n",
       "      <th>accountcode</th>\n",
       "      <th>mail_id</th>\n",
       "      <th>ip_id</th>\n",
       "      <th>card_id</th>\n",
       "      <th>countries_equal</th>\n",
       "      <th>date</th>\n",
       "      <th>day_of_week</th>\n",
       "      <th>hour</th>\n",
       "      <th>creationdate_Unix</th>\n",
       "      <th>amount_eur</th>\n",
       "    </tr>\n",
       "  </thead>\n",
       "  <tbody>\n",
       "    <tr>\n",
       "      <th>0</th>\n",
       "      <td>1</td>\n",
       "      <td>2015-11-09 14:26:51</td>\n",
       "      <td>104</td>\n",
       "      <td>2</td>\n",
       "      <td>1998</td>\n",
       "      <td>64800.0</td>\n",
       "      <td>2</td>\n",
       "      <td>104</td>\n",
       "      <td>1</td>\n",
       "      <td>1</td>\n",
       "      <td>...</td>\n",
       "      <td>1</td>\n",
       "      <td>187702</td>\n",
       "      <td>7386</td>\n",
       "      <td>73358</td>\n",
       "      <td>1</td>\n",
       "      <td>2015-07-01</td>\n",
       "      <td>2</td>\n",
       "      <td>23</td>\n",
       "      <td>1435791791</td>\n",
       "      <td>30.446979</td>\n",
       "    </tr>\n",
       "    <tr>\n",
       "      <th>1</th>\n",
       "      <td>2</td>\n",
       "      <td>2015-11-09 14:27:38</td>\n",
       "      <td>104</td>\n",
       "      <td>2</td>\n",
       "      <td>2364</td>\n",
       "      <td>44900.0</td>\n",
       "      <td>2</td>\n",
       "      <td>104</td>\n",
       "      <td>1</td>\n",
       "      <td>1</td>\n",
       "      <td>...</td>\n",
       "      <td>1</td>\n",
       "      <td>834</td>\n",
       "      <td>194109</td>\n",
       "      <td>44739</td>\n",
       "      <td>1</td>\n",
       "      <td>2015-07-02</td>\n",
       "      <td>3</td>\n",
       "      <td>4</td>\n",
       "      <td>1435812655</td>\n",
       "      <td>21.096749</td>\n",
       "    </tr>\n",
       "    <tr>\n",
       "      <th>2</th>\n",
       "      <td>3</td>\n",
       "      <td>2015-11-23 16:34:16</td>\n",
       "      <td>104</td>\n",
       "      <td>2</td>\n",
       "      <td>1965</td>\n",
       "      <td>149900.0</td>\n",
       "      <td>2</td>\n",
       "      <td>104</td>\n",
       "      <td>1</td>\n",
       "      <td>1</td>\n",
       "      <td>...</td>\n",
       "      <td>1</td>\n",
       "      <td>119287</td>\n",
       "      <td>189655</td>\n",
       "      <td>122802</td>\n",
       "      <td>1</td>\n",
       "      <td>2015-07-02</td>\n",
       "      <td>3</td>\n",
       "      <td>14</td>\n",
       "      <td>1435847428</td>\n",
       "      <td>70.432131</td>\n",
       "    </tr>\n",
       "    <tr>\n",
       "      <th>3</th>\n",
       "      <td>4</td>\n",
       "      <td>2015-11-23 16:34:51</td>\n",
       "      <td>104</td>\n",
       "      <td>2</td>\n",
       "      <td>2374</td>\n",
       "      <td>109900.0</td>\n",
       "      <td>2</td>\n",
       "      <td>104</td>\n",
       "      <td>1</td>\n",
       "      <td>1</td>\n",
       "      <td>...</td>\n",
       "      <td>1</td>\n",
       "      <td>173561</td>\n",
       "      <td>8254</td>\n",
       "      <td>70712</td>\n",
       "      <td>1</td>\n",
       "      <td>2015-07-03</td>\n",
       "      <td>4</td>\n",
       "      <td>7</td>\n",
       "      <td>1435910017</td>\n",
       "      <td>51.637700</td>\n",
       "    </tr>\n",
       "    <tr>\n",
       "      <th>4</th>\n",
       "      <td>5</td>\n",
       "      <td>2015-11-09 14:26:08</td>\n",
       "      <td>104</td>\n",
       "      <td>6</td>\n",
       "      <td>1301</td>\n",
       "      <td>89900.0</td>\n",
       "      <td>2</td>\n",
       "      <td>104</td>\n",
       "      <td>1</td>\n",
       "      <td>1</td>\n",
       "      <td>...</td>\n",
       "      <td>1</td>\n",
       "      <td>70647</td>\n",
       "      <td>196247</td>\n",
       "      <td>208481</td>\n",
       "      <td>1</td>\n",
       "      <td>2015-07-08</td>\n",
       "      <td>2</td>\n",
       "      <td>18</td>\n",
       "      <td>1436380535</td>\n",
       "      <td>42.240484</td>\n",
       "    </tr>\n",
       "  </tbody>\n",
       "</table>\n",
       "<p>5 rows × 23 columns</p>\n",
       "</div>"
      ],
      "text/plain": [
       "   txid         bookingdate  issuercountrycode  txvariantcode   bin    amount  \\\n",
       "0     1 2015-11-09 14:26:51                104              2  1998   64800.0   \n",
       "1     2 2015-11-09 14:27:38                104              2  2364   44900.0   \n",
       "2     3 2015-11-23 16:34:16                104              2  1965  149900.0   \n",
       "3     4 2015-11-23 16:34:51                104              2  2374  109900.0   \n",
       "4     5 2015-11-09 14:26:08                104              6  1301   89900.0   \n",
       "\n",
       "   currencycode  shoppercountrycode  shopperinteraction  simple_journal  ...  \\\n",
       "0             2                 104                   1               1  ...   \n",
       "1             2                 104                   1               1  ...   \n",
       "2             2                 104                   1               1  ...   \n",
       "3             2                 104                   1               1  ...   \n",
       "4             2                 104                   1               1  ...   \n",
       "\n",
       "   accountcode  mail_id   ip_id  card_id  countries_equal        date  \\\n",
       "0            1   187702    7386    73358                1  2015-07-01   \n",
       "1            1      834  194109    44739                1  2015-07-02   \n",
       "2            1   119287  189655   122802                1  2015-07-02   \n",
       "3            1   173561    8254    70712                1  2015-07-03   \n",
       "4            1    70647  196247   208481                1  2015-07-08   \n",
       "\n",
       "   day_of_week  hour creationdate_Unix  amount_eur  \n",
       "0            2    23        1435791791   30.446979  \n",
       "1            3     4        1435812655   21.096749  \n",
       "2            3    14        1435847428   70.432131  \n",
       "3            4     7        1435910017   51.637700  \n",
       "4            2    18        1436380535   42.240484  \n",
       "\n",
       "[5 rows x 23 columns]"
      ]
     },
     "execution_count": 12,
     "metadata": {},
     "output_type": "execute_result"
    }
   ],
   "source": [
    "#What the data looks like without swapping\n",
    "df1.head()"
   ]
  },
  {
   "cell_type": "code",
   "execution_count": 13,
   "metadata": {},
   "outputs": [],
   "source": [
    "#These columns are not relevant to the classifier and can therefore be ignored.\n",
    "df_notswapped = df1.drop(columns=['txid','creationdate','bookingdate','amount','date'])"
   ]
  },
  {
   "cell_type": "code",
   "execution_count": 14,
   "metadata": {},
   "outputs": [],
   "source": [
    "# Rank swapping function\n",
    "def rank_swap(perc,column,df):\n",
    "    #Percentage of total rows for which we can safely switch two ranked items in a column.\n",
    "    p = perc\n",
    "    #The column for which we wish to do the rank swapping.\n",
    "    c = column\n",
    "    #Sort the dataframe based on the column\n",
    "    sortbycol = df.sort_values(c)\n",
    "    #Extract the index of the dataframe.\n",
    "    sortedbycolindex=sortbycol.index.to_list()\n",
    "    #Calculate the interval within which swaps of ranked values are allowed.\n",
    "    interval = int(len(df.index)*(p/100))\n",
    "    #This set checks if values have been swapped and skips those values.\n",
    "    value_list=set()\n",
    "    for i in range(len(sortedbycolindex)):\n",
    "        if i in value_list:\n",
    "            continue\n",
    "        #Just sampling a random value and doing it until the value agrees with the interval.    \n",
    "        value = randint(0,len(sortedbycolindex)-1)\n",
    "        while(abs(i-value)>interval):\n",
    "            value = randint(0,len(sortedbycolindex)-1)\n",
    "        #Adding swapped value indexes to the value_list set.\n",
    "        value_list.add(value)\n",
    "        #Doing the actual swap. \n",
    "        sortedbycolindex[i], sortedbycolindex[value] = sortedbycolindex[value], sortedbycolindex[i]\n",
    "    \n",
    "    #Reordering a new dataframe based on index.\n",
    "    newdf=df.reindex(sortedbycolindex)  \n",
    "    #Getting the values in the order we need.\n",
    "    v=newdf[c]\n",
    "    #Assigning the values of that order in the original dataframe\n",
    "    df[c]=v.values\n",
    "    #Returning the dataframe and exiting the function.\n",
    "    return df     "
   ]
  },
  {
   "cell_type": "code",
   "execution_count": 15,
   "metadata": {},
   "outputs": [],
   "source": [
    "#Only rankswapping those with ordinal component.\n",
    "df_swapped=df1.drop(columns=['txid','creationdate','bookingdate','amount','date'])\n",
    "df_swapped = rank_swap(10,\"amount_eur\",df_swapped)\n",
    "df_swapped = rank_swap(10,\"creationdate_Unix\",df_swapped)\n",
    "df_swapped = rank_swap(10,\"day_of_week\",df_swapped)\n",
    "df_swapped = rank_swap(10,\"hour\",df_swapped)"
   ]
  },
  {
   "cell_type": "code",
   "execution_count": 16,
   "metadata": {},
   "outputs": [
    {
     "data": {
      "text/html": [
       "<div>\n",
       "<style scoped>\n",
       "    .dataframe tbody tr th:only-of-type {\n",
       "        vertical-align: middle;\n",
       "    }\n",
       "\n",
       "    .dataframe tbody tr th {\n",
       "        vertical-align: top;\n",
       "    }\n",
       "\n",
       "    .dataframe thead th {\n",
       "        text-align: right;\n",
       "    }\n",
       "</style>\n",
       "<table border=\"1\" class=\"dataframe\">\n",
       "  <thead>\n",
       "    <tr style=\"text-align: right;\">\n",
       "      <th></th>\n",
       "      <th>issuercountrycode</th>\n",
       "      <th>txvariantcode</th>\n",
       "      <th>bin</th>\n",
       "      <th>currencycode</th>\n",
       "      <th>shoppercountrycode</th>\n",
       "      <th>shopperinteraction</th>\n",
       "      <th>simple_journal</th>\n",
       "      <th>cardverificationcodesupplied</th>\n",
       "      <th>cvcresponsecode</th>\n",
       "      <th>accountcode</th>\n",
       "      <th>mail_id</th>\n",
       "      <th>ip_id</th>\n",
       "      <th>card_id</th>\n",
       "      <th>countries_equal</th>\n",
       "      <th>day_of_week</th>\n",
       "      <th>hour</th>\n",
       "      <th>creationdate_Unix</th>\n",
       "      <th>amount_eur</th>\n",
       "    </tr>\n",
       "  </thead>\n",
       "  <tbody>\n",
       "    <tr>\n",
       "      <th>0</th>\n",
       "      <td>104</td>\n",
       "      <td>2</td>\n",
       "      <td>1998</td>\n",
       "      <td>2</td>\n",
       "      <td>104</td>\n",
       "      <td>1</td>\n",
       "      <td>1</td>\n",
       "      <td>1</td>\n",
       "      <td>0</td>\n",
       "      <td>1</td>\n",
       "      <td>187702</td>\n",
       "      <td>7386</td>\n",
       "      <td>73358</td>\n",
       "      <td>1</td>\n",
       "      <td>2</td>\n",
       "      <td>23</td>\n",
       "      <td>1435791791</td>\n",
       "      <td>30.446979</td>\n",
       "    </tr>\n",
       "    <tr>\n",
       "      <th>1</th>\n",
       "      <td>104</td>\n",
       "      <td>2</td>\n",
       "      <td>2364</td>\n",
       "      <td>2</td>\n",
       "      <td>104</td>\n",
       "      <td>1</td>\n",
       "      <td>1</td>\n",
       "      <td>1</td>\n",
       "      <td>0</td>\n",
       "      <td>1</td>\n",
       "      <td>834</td>\n",
       "      <td>194109</td>\n",
       "      <td>44739</td>\n",
       "      <td>1</td>\n",
       "      <td>3</td>\n",
       "      <td>4</td>\n",
       "      <td>1435812655</td>\n",
       "      <td>21.096749</td>\n",
       "    </tr>\n",
       "    <tr>\n",
       "      <th>2</th>\n",
       "      <td>104</td>\n",
       "      <td>2</td>\n",
       "      <td>1965</td>\n",
       "      <td>2</td>\n",
       "      <td>104</td>\n",
       "      <td>1</td>\n",
       "      <td>1</td>\n",
       "      <td>1</td>\n",
       "      <td>0</td>\n",
       "      <td>1</td>\n",
       "      <td>119287</td>\n",
       "      <td>189655</td>\n",
       "      <td>122802</td>\n",
       "      <td>1</td>\n",
       "      <td>3</td>\n",
       "      <td>14</td>\n",
       "      <td>1435847428</td>\n",
       "      <td>70.432131</td>\n",
       "    </tr>\n",
       "    <tr>\n",
       "      <th>3</th>\n",
       "      <td>104</td>\n",
       "      <td>2</td>\n",
       "      <td>2374</td>\n",
       "      <td>2</td>\n",
       "      <td>104</td>\n",
       "      <td>1</td>\n",
       "      <td>1</td>\n",
       "      <td>1</td>\n",
       "      <td>0</td>\n",
       "      <td>1</td>\n",
       "      <td>173561</td>\n",
       "      <td>8254</td>\n",
       "      <td>70712</td>\n",
       "      <td>1</td>\n",
       "      <td>4</td>\n",
       "      <td>7</td>\n",
       "      <td>1435910017</td>\n",
       "      <td>51.637700</td>\n",
       "    </tr>\n",
       "    <tr>\n",
       "      <th>4</th>\n",
       "      <td>104</td>\n",
       "      <td>6</td>\n",
       "      <td>1301</td>\n",
       "      <td>2</td>\n",
       "      <td>104</td>\n",
       "      <td>1</td>\n",
       "      <td>1</td>\n",
       "      <td>1</td>\n",
       "      <td>0</td>\n",
       "      <td>1</td>\n",
       "      <td>70647</td>\n",
       "      <td>196247</td>\n",
       "      <td>208481</td>\n",
       "      <td>1</td>\n",
       "      <td>2</td>\n",
       "      <td>18</td>\n",
       "      <td>1436380535</td>\n",
       "      <td>42.240484</td>\n",
       "    </tr>\n",
       "    <tr>\n",
       "      <th>...</th>\n",
       "      <td>...</td>\n",
       "      <td>...</td>\n",
       "      <td>...</td>\n",
       "      <td>...</td>\n",
       "      <td>...</td>\n",
       "      <td>...</td>\n",
       "      <td>...</td>\n",
       "      <td>...</td>\n",
       "      <td>...</td>\n",
       "      <td>...</td>\n",
       "      <td>...</td>\n",
       "      <td>...</td>\n",
       "      <td>...</td>\n",
       "      <td>...</td>\n",
       "      <td>...</td>\n",
       "      <td>...</td>\n",
       "      <td>...</td>\n",
       "      <td>...</td>\n",
       "    </tr>\n",
       "    <tr>\n",
       "      <th>290377</th>\n",
       "      <td>131</td>\n",
       "      <td>8</td>\n",
       "      <td>784</td>\n",
       "      <td>4</td>\n",
       "      <td>131</td>\n",
       "      <td>1</td>\n",
       "      <td>0</td>\n",
       "      <td>1</td>\n",
       "      <td>1</td>\n",
       "      <td>2</td>\n",
       "      <td>23852</td>\n",
       "      <td>16764</td>\n",
       "      <td>196325</td>\n",
       "      <td>1</td>\n",
       "      <td>5</td>\n",
       "      <td>23</td>\n",
       "      <td>1446333718</td>\n",
       "      <td>45.228021</td>\n",
       "    </tr>\n",
       "    <tr>\n",
       "      <th>290378</th>\n",
       "      <td>131</td>\n",
       "      <td>3</td>\n",
       "      <td>2508</td>\n",
       "      <td>4</td>\n",
       "      <td>131</td>\n",
       "      <td>1</td>\n",
       "      <td>0</td>\n",
       "      <td>1</td>\n",
       "      <td>1</td>\n",
       "      <td>2</td>\n",
       "      <td>106775</td>\n",
       "      <td>67997</td>\n",
       "      <td>27390</td>\n",
       "      <td>1</td>\n",
       "      <td>5</td>\n",
       "      <td>23</td>\n",
       "      <td>1446334284</td>\n",
       "      <td>183.356841</td>\n",
       "    </tr>\n",
       "    <tr>\n",
       "      <th>290379</th>\n",
       "      <td>131</td>\n",
       "      <td>8</td>\n",
       "      <td>784</td>\n",
       "      <td>4</td>\n",
       "      <td>131</td>\n",
       "      <td>1</td>\n",
       "      <td>0</td>\n",
       "      <td>1</td>\n",
       "      <td>1</td>\n",
       "      <td>2</td>\n",
       "      <td>152970</td>\n",
       "      <td>87084</td>\n",
       "      <td>36581</td>\n",
       "      <td>1</td>\n",
       "      <td>5</td>\n",
       "      <td>23</td>\n",
       "      <td>1446334900</td>\n",
       "      <td>49.365303</td>\n",
       "    </tr>\n",
       "    <tr>\n",
       "      <th>290380</th>\n",
       "      <td>131</td>\n",
       "      <td>3</td>\n",
       "      <td>2508</td>\n",
       "      <td>4</td>\n",
       "      <td>131</td>\n",
       "      <td>1</td>\n",
       "      <td>0</td>\n",
       "      <td>1</td>\n",
       "      <td>1</td>\n",
       "      <td>2</td>\n",
       "      <td>206916</td>\n",
       "      <td>66888</td>\n",
       "      <td>36060</td>\n",
       "      <td>1</td>\n",
       "      <td>5</td>\n",
       "      <td>23</td>\n",
       "      <td>1446335407</td>\n",
       "      <td>82.463564</td>\n",
       "    </tr>\n",
       "    <tr>\n",
       "      <th>290381</th>\n",
       "      <td>131</td>\n",
       "      <td>3</td>\n",
       "      <td>2508</td>\n",
       "      <td>4</td>\n",
       "      <td>131</td>\n",
       "      <td>1</td>\n",
       "      <td>0</td>\n",
       "      <td>1</td>\n",
       "      <td>1</td>\n",
       "      <td>2</td>\n",
       "      <td>18920</td>\n",
       "      <td>66182</td>\n",
       "      <td>146301</td>\n",
       "      <td>1</td>\n",
       "      <td>5</td>\n",
       "      <td>23</td>\n",
       "      <td>1446335702</td>\n",
       "      <td>55.007052</td>\n",
       "    </tr>\n",
       "  </tbody>\n",
       "</table>\n",
       "<p>237036 rows × 18 columns</p>\n",
       "</div>"
      ],
      "text/plain": [
       "        issuercountrycode  txvariantcode   bin  currencycode  \\\n",
       "0                     104              2  1998             2   \n",
       "1                     104              2  2364             2   \n",
       "2                     104              2  1965             2   \n",
       "3                     104              2  2374             2   \n",
       "4                     104              6  1301             2   \n",
       "...                   ...            ...   ...           ...   \n",
       "290377                131              8   784             4   \n",
       "290378                131              3  2508             4   \n",
       "290379                131              8   784             4   \n",
       "290380                131              3  2508             4   \n",
       "290381                131              3  2508             4   \n",
       "\n",
       "        shoppercountrycode  shopperinteraction  simple_journal  \\\n",
       "0                      104                   1               1   \n",
       "1                      104                   1               1   \n",
       "2                      104                   1               1   \n",
       "3                      104                   1               1   \n",
       "4                      104                   1               1   \n",
       "...                    ...                 ...             ...   \n",
       "290377                 131                   1               0   \n",
       "290378                 131                   1               0   \n",
       "290379                 131                   1               0   \n",
       "290380                 131                   1               0   \n",
       "290381                 131                   1               0   \n",
       "\n",
       "        cardverificationcodesupplied  cvcresponsecode  accountcode  mail_id  \\\n",
       "0                                  1                0            1   187702   \n",
       "1                                  1                0            1      834   \n",
       "2                                  1                0            1   119287   \n",
       "3                                  1                0            1   173561   \n",
       "4                                  1                0            1    70647   \n",
       "...                              ...              ...          ...      ...   \n",
       "290377                             1                1            2    23852   \n",
       "290378                             1                1            2   106775   \n",
       "290379                             1                1            2   152970   \n",
       "290380                             1                1            2   206916   \n",
       "290381                             1                1            2    18920   \n",
       "\n",
       "         ip_id  card_id  countries_equal  day_of_week  hour  \\\n",
       "0         7386    73358                1            2    23   \n",
       "1       194109    44739                1            3     4   \n",
       "2       189655   122802                1            3    14   \n",
       "3         8254    70712                1            4     7   \n",
       "4       196247   208481                1            2    18   \n",
       "...        ...      ...              ...          ...   ...   \n",
       "290377   16764   196325                1            5    23   \n",
       "290378   67997    27390                1            5    23   \n",
       "290379   87084    36581                1            5    23   \n",
       "290380   66888    36060                1            5    23   \n",
       "290381   66182   146301                1            5    23   \n",
       "\n",
       "        creationdate_Unix  amount_eur  \n",
       "0              1435791791   30.446979  \n",
       "1              1435812655   21.096749  \n",
       "2              1435847428   70.432131  \n",
       "3              1435910017   51.637700  \n",
       "4              1436380535   42.240484  \n",
       "...                   ...         ...  \n",
       "290377         1446333718   45.228021  \n",
       "290378         1446334284  183.356841  \n",
       "290379         1446334900   49.365303  \n",
       "290380         1446335407   82.463564  \n",
       "290381         1446335702   55.007052  \n",
       "\n",
       "[237036 rows x 18 columns]"
      ]
     },
     "execution_count": 16,
     "metadata": {},
     "output_type": "execute_result"
    }
   ],
   "source": [
    "# Having a look at non-swapped data.\n",
    "df_notswapped"
   ]
  },
  {
   "cell_type": "code",
   "execution_count": 17,
   "metadata": {},
   "outputs": [
    {
     "data": {
      "text/html": [
       "<div>\n",
       "<style scoped>\n",
       "    .dataframe tbody tr th:only-of-type {\n",
       "        vertical-align: middle;\n",
       "    }\n",
       "\n",
       "    .dataframe tbody tr th {\n",
       "        vertical-align: top;\n",
       "    }\n",
       "\n",
       "    .dataframe thead th {\n",
       "        text-align: right;\n",
       "    }\n",
       "</style>\n",
       "<table border=\"1\" class=\"dataframe\">\n",
       "  <thead>\n",
       "    <tr style=\"text-align: right;\">\n",
       "      <th></th>\n",
       "      <th>issuercountrycode</th>\n",
       "      <th>txvariantcode</th>\n",
       "      <th>bin</th>\n",
       "      <th>currencycode</th>\n",
       "      <th>shoppercountrycode</th>\n",
       "      <th>shopperinteraction</th>\n",
       "      <th>simple_journal</th>\n",
       "      <th>cardverificationcodesupplied</th>\n",
       "      <th>cvcresponsecode</th>\n",
       "      <th>accountcode</th>\n",
       "      <th>mail_id</th>\n",
       "      <th>ip_id</th>\n",
       "      <th>card_id</th>\n",
       "      <th>countries_equal</th>\n",
       "      <th>day_of_week</th>\n",
       "      <th>hour</th>\n",
       "      <th>creationdate_Unix</th>\n",
       "      <th>amount_eur</th>\n",
       "    </tr>\n",
       "  </thead>\n",
       "  <tbody>\n",
       "    <tr>\n",
       "      <th>0</th>\n",
       "      <td>104</td>\n",
       "      <td>2</td>\n",
       "      <td>1998</td>\n",
       "      <td>2</td>\n",
       "      <td>104</td>\n",
       "      <td>1</td>\n",
       "      <td>1</td>\n",
       "      <td>1</td>\n",
       "      <td>0</td>\n",
       "      <td>1</td>\n",
       "      <td>187702</td>\n",
       "      <td>7386</td>\n",
       "      <td>73358</td>\n",
       "      <td>1</td>\n",
       "      <td>0</td>\n",
       "      <td>0</td>\n",
       "      <td>1436140280</td>\n",
       "      <td>5.656464</td>\n",
       "    </tr>\n",
       "    <tr>\n",
       "      <th>1</th>\n",
       "      <td>104</td>\n",
       "      <td>2</td>\n",
       "      <td>2364</td>\n",
       "      <td>2</td>\n",
       "      <td>104</td>\n",
       "      <td>1</td>\n",
       "      <td>1</td>\n",
       "      <td>1</td>\n",
       "      <td>0</td>\n",
       "      <td>1</td>\n",
       "      <td>834</td>\n",
       "      <td>194109</td>\n",
       "      <td>44739</td>\n",
       "      <td>1</td>\n",
       "      <td>0</td>\n",
       "      <td>0</td>\n",
       "      <td>1436220789</td>\n",
       "      <td>15.680975</td>\n",
       "    </tr>\n",
       "    <tr>\n",
       "      <th>2</th>\n",
       "      <td>104</td>\n",
       "      <td>2</td>\n",
       "      <td>1965</td>\n",
       "      <td>2</td>\n",
       "      <td>104</td>\n",
       "      <td>1</td>\n",
       "      <td>1</td>\n",
       "      <td>1</td>\n",
       "      <td>0</td>\n",
       "      <td>1</td>\n",
       "      <td>119287</td>\n",
       "      <td>189655</td>\n",
       "      <td>122802</td>\n",
       "      <td>1</td>\n",
       "      <td>0</td>\n",
       "      <td>2</td>\n",
       "      <td>1436310788</td>\n",
       "      <td>10.024511</td>\n",
       "    </tr>\n",
       "    <tr>\n",
       "      <th>3</th>\n",
       "      <td>104</td>\n",
       "      <td>2</td>\n",
       "      <td>2374</td>\n",
       "      <td>2</td>\n",
       "      <td>104</td>\n",
       "      <td>1</td>\n",
       "      <td>1</td>\n",
       "      <td>1</td>\n",
       "      <td>0</td>\n",
       "      <td>1</td>\n",
       "      <td>173561</td>\n",
       "      <td>8254</td>\n",
       "      <td>70712</td>\n",
       "      <td>1</td>\n",
       "      <td>0</td>\n",
       "      <td>1</td>\n",
       "      <td>1436300897</td>\n",
       "      <td>11.438627</td>\n",
       "    </tr>\n",
       "    <tr>\n",
       "      <th>4</th>\n",
       "      <td>104</td>\n",
       "      <td>6</td>\n",
       "      <td>1301</td>\n",
       "      <td>2</td>\n",
       "      <td>104</td>\n",
       "      <td>1</td>\n",
       "      <td>1</td>\n",
       "      <td>1</td>\n",
       "      <td>0</td>\n",
       "      <td>1</td>\n",
       "      <td>70647</td>\n",
       "      <td>196247</td>\n",
       "      <td>208481</td>\n",
       "      <td>1</td>\n",
       "      <td>0</td>\n",
       "      <td>0</td>\n",
       "      <td>1436554460</td>\n",
       "      <td>11.752875</td>\n",
       "    </tr>\n",
       "    <tr>\n",
       "      <th>...</th>\n",
       "      <td>...</td>\n",
       "      <td>...</td>\n",
       "      <td>...</td>\n",
       "      <td>...</td>\n",
       "      <td>...</td>\n",
       "      <td>...</td>\n",
       "      <td>...</td>\n",
       "      <td>...</td>\n",
       "      <td>...</td>\n",
       "      <td>...</td>\n",
       "      <td>...</td>\n",
       "      <td>...</td>\n",
       "      <td>...</td>\n",
       "      <td>...</td>\n",
       "      <td>...</td>\n",
       "      <td>...</td>\n",
       "      <td>...</td>\n",
       "      <td>...</td>\n",
       "    </tr>\n",
       "    <tr>\n",
       "      <th>290377</th>\n",
       "      <td>131</td>\n",
       "      <td>8</td>\n",
       "      <td>784</td>\n",
       "      <td>4</td>\n",
       "      <td>131</td>\n",
       "      <td>1</td>\n",
       "      <td>0</td>\n",
       "      <td>1</td>\n",
       "      <td>1</td>\n",
       "      <td>2</td>\n",
       "      <td>23852</td>\n",
       "      <td>16764</td>\n",
       "      <td>196325</td>\n",
       "      <td>1</td>\n",
       "      <td>6</td>\n",
       "      <td>22</td>\n",
       "      <td>1446189019</td>\n",
       "      <td>492.765050</td>\n",
       "    </tr>\n",
       "    <tr>\n",
       "      <th>290378</th>\n",
       "      <td>131</td>\n",
       "      <td>3</td>\n",
       "      <td>2508</td>\n",
       "      <td>4</td>\n",
       "      <td>131</td>\n",
       "      <td>1</td>\n",
       "      <td>0</td>\n",
       "      <td>1</td>\n",
       "      <td>1</td>\n",
       "      <td>2</td>\n",
       "      <td>106775</td>\n",
       "      <td>67997</td>\n",
       "      <td>27390</td>\n",
       "      <td>1</td>\n",
       "      <td>6</td>\n",
       "      <td>23</td>\n",
       "      <td>1446307692</td>\n",
       "      <td>226.671923</td>\n",
       "    </tr>\n",
       "    <tr>\n",
       "      <th>290379</th>\n",
       "      <td>131</td>\n",
       "      <td>8</td>\n",
       "      <td>784</td>\n",
       "      <td>4</td>\n",
       "      <td>131</td>\n",
       "      <td>1</td>\n",
       "      <td>0</td>\n",
       "      <td>1</td>\n",
       "      <td>1</td>\n",
       "      <td>2</td>\n",
       "      <td>152970</td>\n",
       "      <td>87084</td>\n",
       "      <td>36581</td>\n",
       "      <td>1</td>\n",
       "      <td>6</td>\n",
       "      <td>23</td>\n",
       "      <td>1446015173</td>\n",
       "      <td>205.453691</td>\n",
       "    </tr>\n",
       "    <tr>\n",
       "      <th>290380</th>\n",
       "      <td>131</td>\n",
       "      <td>3</td>\n",
       "      <td>2508</td>\n",
       "      <td>4</td>\n",
       "      <td>131</td>\n",
       "      <td>1</td>\n",
       "      <td>0</td>\n",
       "      <td>1</td>\n",
       "      <td>1</td>\n",
       "      <td>2</td>\n",
       "      <td>206916</td>\n",
       "      <td>66888</td>\n",
       "      <td>36060</td>\n",
       "      <td>1</td>\n",
       "      <td>6</td>\n",
       "      <td>22</td>\n",
       "      <td>1445285354</td>\n",
       "      <td>196.965639</td>\n",
       "    </tr>\n",
       "    <tr>\n",
       "      <th>290381</th>\n",
       "      <td>131</td>\n",
       "      <td>3</td>\n",
       "      <td>2508</td>\n",
       "      <td>4</td>\n",
       "      <td>131</td>\n",
       "      <td>1</td>\n",
       "      <td>0</td>\n",
       "      <td>1</td>\n",
       "      <td>1</td>\n",
       "      <td>2</td>\n",
       "      <td>18920</td>\n",
       "      <td>66182</td>\n",
       "      <td>146301</td>\n",
       "      <td>1</td>\n",
       "      <td>6</td>\n",
       "      <td>22</td>\n",
       "      <td>1445904434</td>\n",
       "      <td>167.540117</td>\n",
       "    </tr>\n",
       "  </tbody>\n",
       "</table>\n",
       "<p>237036 rows × 18 columns</p>\n",
       "</div>"
      ],
      "text/plain": [
       "        issuercountrycode  txvariantcode   bin  currencycode  \\\n",
       "0                     104              2  1998             2   \n",
       "1                     104              2  2364             2   \n",
       "2                     104              2  1965             2   \n",
       "3                     104              2  2374             2   \n",
       "4                     104              6  1301             2   \n",
       "...                   ...            ...   ...           ...   \n",
       "290377                131              8   784             4   \n",
       "290378                131              3  2508             4   \n",
       "290379                131              8   784             4   \n",
       "290380                131              3  2508             4   \n",
       "290381                131              3  2508             4   \n",
       "\n",
       "        shoppercountrycode  shopperinteraction  simple_journal  \\\n",
       "0                      104                   1               1   \n",
       "1                      104                   1               1   \n",
       "2                      104                   1               1   \n",
       "3                      104                   1               1   \n",
       "4                      104                   1               1   \n",
       "...                    ...                 ...             ...   \n",
       "290377                 131                   1               0   \n",
       "290378                 131                   1               0   \n",
       "290379                 131                   1               0   \n",
       "290380                 131                   1               0   \n",
       "290381                 131                   1               0   \n",
       "\n",
       "        cardverificationcodesupplied  cvcresponsecode  accountcode  mail_id  \\\n",
       "0                                  1                0            1   187702   \n",
       "1                                  1                0            1      834   \n",
       "2                                  1                0            1   119287   \n",
       "3                                  1                0            1   173561   \n",
       "4                                  1                0            1    70647   \n",
       "...                              ...              ...          ...      ...   \n",
       "290377                             1                1            2    23852   \n",
       "290378                             1                1            2   106775   \n",
       "290379                             1                1            2   152970   \n",
       "290380                             1                1            2   206916   \n",
       "290381                             1                1            2    18920   \n",
       "\n",
       "         ip_id  card_id  countries_equal  day_of_week  hour  \\\n",
       "0         7386    73358                1            0     0   \n",
       "1       194109    44739                1            0     0   \n",
       "2       189655   122802                1            0     2   \n",
       "3         8254    70712                1            0     1   \n",
       "4       196247   208481                1            0     0   \n",
       "...        ...      ...              ...          ...   ...   \n",
       "290377   16764   196325                1            6    22   \n",
       "290378   67997    27390                1            6    23   \n",
       "290379   87084    36581                1            6    23   \n",
       "290380   66888    36060                1            6    22   \n",
       "290381   66182   146301                1            6    22   \n",
       "\n",
       "        creationdate_Unix  amount_eur  \n",
       "0              1436140280    5.656464  \n",
       "1              1436220789   15.680975  \n",
       "2              1436310788   10.024511  \n",
       "3              1436300897   11.438627  \n",
       "4              1436554460   11.752875  \n",
       "...                   ...         ...  \n",
       "290377         1446189019  492.765050  \n",
       "290378         1446307692  226.671923  \n",
       "290379         1446015173  205.453691  \n",
       "290380         1445285354  196.965639  \n",
       "290381         1445904434  167.540117  \n",
       "\n",
       "[237036 rows x 18 columns]"
      ]
     },
     "execution_count": 17,
     "metadata": {},
     "output_type": "execute_result"
    }
   ],
   "source": [
    "# Looking at the swapped data.\n",
    "df_swapped"
   ]
  },
  {
   "cell_type": "code",
   "execution_count": 18,
   "metadata": {},
   "outputs": [],
   "source": [
    "#swapping every column.\n",
    "df_allswapped=df1.drop(columns=['txid','creationdate','bookingdate','amount','date'])\n",
    "for i in df_notswapped.columns:\n",
    "    df_allswapped=rank_swap(10,i,df_allswapped)"
   ]
  },
  {
   "cell_type": "code",
   "execution_count": 20,
   "metadata": {},
   "outputs": [],
   "source": [
    "# Creating the data and the labels for training.\n",
    "X1 = df_swapped.drop(columns=\"simple_journal\")\n",
    "y1 = df_swapped[\"simple_journal\"]\n",
    "X2 = df_allswapped.drop(columns=\"simple_journal\")\n",
    "y2 = df_allswapped[\"simple_journal\"]\n",
    "X3 = df_notswapped.drop(columns=\"simple_journal\")\n",
    "y3 = df_notswapped[\"simple_journal\"]"
   ]
  },
  {
   "cell_type": "code",
   "execution_count": 21,
   "metadata": {},
   "outputs": [],
   "source": [
    "#Scaling the data before we feed it into the classifier. \n",
    "scaler = MinMaxScaler()\n",
    "X1 = scaler.fit_transform(X1)\n",
    "X2 = scaler.fit_transform(X2)\n",
    "X3 = scaler.fit_transform(X3)"
   ]
  },
  {
   "cell_type": "code",
   "execution_count": 22,
   "metadata": {},
   "outputs": [],
   "source": [
    "X1_train, X1_test, y1_train, y1_test = train_test_split(X1,y1,stratify=y1,test_size=0.33)\n",
    "X2_train, X2_test, y2_train, y2_test = train_test_split(X2,y2,stratify=y2,test_size=0.33)\n",
    "X3_train, X3_test, y3_train, y3_test = train_test_split(X3,y3,stratify=y3,test_size=0.33)"
   ]
  },
  {
   "cell_type": "code",
   "execution_count": 23,
   "metadata": {},
   "outputs": [
    {
     "data": {
      "text/plain": [
       "(((158814, 17), 231), ((78222, 17), 114))"
      ]
     },
     "execution_count": 23,
     "metadata": {},
     "output_type": "execute_result"
    }
   ],
   "source": [
    "#Number of samples and the number of fraud cases in train and test. \n",
    "(X3_train.shape,y3_train.sum()),(X3_test.shape,y3_test.sum())"
   ]
  },
  {
   "cell_type": "code",
   "execution_count": 24,
   "metadata": {},
   "outputs": [],
   "source": [
    "#subsampling the training datasets keeping a 20% fraud and 80% non fraud class distribution.\n",
    "posindex=[]\n",
    "for i in enumerate(y1_train):\n",
    "    if i[1]==1:\n",
    "        posindex.append(i[0])\n",
    "fullindex=list(range(0,len(y1_train)))\n",
    "sampleindex= list(set(fullindex)-set(posindex))\n",
    "randomlist = list(set(random.sample(range(0, len(sampleindex)),924)))\n",
    "randomlist = list(np.array(sampleindex)[randomlist])\n",
    "randomlist.extend(posindex)\n",
    "random.shuffle(randomlist)\n",
    "X1_train=(X1_train[randomlist])\n",
    "y1_train=np.array(y1_train)\n",
    "y1_train=y1_train[randomlist].ravel()\n",
    "posindex=[]\n",
    "for i in enumerate(y2_train):\n",
    "    if i[1]==1:\n",
    "        posindex.append(i[0])\n",
    "fullindex=list(range(0,len(y2_train)))\n",
    "sampleindex= list(set(fullindex)-set(posindex))\n",
    "randomlist = list(set(random.sample(range(0, len(sampleindex)),924)))\n",
    "randomlist = list(np.array(sampleindex)[randomlist])\n",
    "randomlist.extend(posindex)\n",
    "random.shuffle(randomlist)\n",
    "X2_train=(X2_train[randomlist])\n",
    "y2_train=np.array(y2_train)\n",
    "y2_train=y2_train[randomlist].ravel()\n",
    "posindex=[]\n",
    "for i in enumerate(y3_train):\n",
    "    if i[1]==1:\n",
    "        posindex.append(i[0])\n",
    "fullindex=list(range(0,len(y3_train)))\n",
    "sampleindex= list(set(fullindex)-set(posindex))\n",
    "randomlist = list(set(random.sample(range(0, len(sampleindex)),924)))\n",
    "randomlist = list(np.array(sampleindex)[randomlist])\n",
    "randomlist.extend(posindex)\n",
    "random.shuffle(randomlist)\n",
    "X3_train=(X3_train[randomlist])\n",
    "y3_train=np.array(y3_train)\n",
    "y3_train=y3_train[randomlist].ravel()"
   ]
  },
  {
   "cell_type": "code",
   "execution_count": 25,
   "metadata": {},
   "outputs": [
    {
     "data": {
      "text/plain": [
       "(((1155, 17), 231), ((78222, 17), 114))"
      ]
     },
     "execution_count": 25,
     "metadata": {},
     "output_type": "execute_result"
    }
   ],
   "source": [
    "#Number of samples and the number of fraud cases in train and test after subsampling. \n",
    "(X3_train.shape,y3_train.sum()),(X3_test.shape,y3_test.sum())"
   ]
  },
  {
   "cell_type": "markdown",
   "metadata": {},
   "source": [
    "### 3a. ROC curves for the respective classifiers"
   ]
  },
  {
   "cell_type": "markdown",
   "metadata": {},
   "source": [
    "### Naive Baye's Classifier."
   ]
  },
  {
   "cell_type": "code",
   "execution_count": 26,
   "metadata": {},
   "outputs": [
    {
     "name": "stdout",
     "output_type": "stream",
     "text": [
      "Number of mislabeled points out of a total 78222 points for rank-swapped dataset : 12436\n",
      "accuracy:  0.8410165937971414\n",
      "Number of mislabeled points out of a total 78222 points for rank-swapped all columns dataset : 13376\n",
      "accuracy:  0.8289995142031653\n",
      "Number of mislabeled points out of a total 78222 points for non-swapped dataset: 13698\n",
      "accuracy:  0.8248830252358671\n"
     ]
    },
    {
     "data": {
      "image/png": "[encoded data removed]",
      "text/plain": [
       "<Figure size 410.4x307.44 with 1 Axes>"
      ]
     },
     "metadata": {},
     "output_type": "display_data"
    },
    {
     "name": "stdout",
     "output_type": "stream",
     "text": [
      "(True neg, False pos, False neg, True Pos) for the three datasets respectively:\n"
     ]
    },
    {
     "data": {
      "text/plain": [
       "((65689, 12419, 17, 97), (64733, 13375, 1, 113), (64426, 13682, 16, 98))"
      ]
     },
     "execution_count": 26,
     "metadata": {},
     "output_type": "execute_result"
    }
   ],
   "source": [
    "#Defining the classifier\n",
    "cnb = ComplementNB()\n",
    "\n",
    "#Fitting the data and making predictions.\n",
    "y1_pred = cnb.fit(X1_train, y1_train).predict(X1_test)\n",
    "#Printing accuracy.\n",
    "print(\"Number of mislabeled points out of a total %d points for rank-swapped dataset : %d\" %(X1_test.shape[0], (y1_test != y1_pred).sum()))\n",
    "print(\"accuracy: \", metrics.accuracy_score(y1_test, y1_pred))\n",
    "\n",
    "#Plotting ROC Curves.\n",
    "y1_pred_proba = cnb.predict_proba(X1_test)[::,1]\n",
    "fpr1, tpr1, thresholds1 = metrics.roc_curve(y1_test, y1_pred_proba)\n",
    "auc1 = metrics.roc_auc_score(y1_test, y1_pred_proba)\n",
    "plt.plot(fpr1, tpr1, label=\"AUC(Rank-Swapped Dataset)= \" +str(round(auc1*100,2)))\n",
    "\n",
    "#Fitting the data and making predictions.\n",
    "y2_pred = cnb.fit(X2_train, y2_train).predict(X2_test)\n",
    "#Printing accuracy.\n",
    "print(\"Number of mislabeled points out of a total %d points for rank-swapped all columns dataset : %d\" %(X2_test.shape[0], (y2_test != y2_pred).sum()))\n",
    "print(\"accuracy: \", metrics.accuracy_score(y2_test, y2_pred))\n",
    "\n",
    "#Plotting ROC Curves.\n",
    "y2_pred_proba = cnb.predict_proba(X2_test)[::,1]\n",
    "fpr2, tpr2, thresholds2 = metrics.roc_curve(y2_test, y2_pred_proba)\n",
    "auc2 = metrics.roc_auc_score(y2_test, y2_pred_proba)\n",
    "plt.plot(fpr2, tpr2, label=\"AUC(Rank-Swapped All Columns Dataset)=\" +str(round(auc2*100,2)))\n",
    "\n",
    "#Fitting the data and making predictions.\n",
    "y3_pred = cnb.fit(X3_train, y3_train).predict(X3_test)\n",
    "#Printing accuracy.\n",
    "print(\"Number of mislabeled points out of a total %d points for non-swapped dataset: %d\" %(X3_test.shape[0], (y3_test != y3_pred).sum()))\n",
    "print(\"accuracy: \", metrics.accuracy_score(y3_test, y3_pred))\n",
    "\n",
    "#Plotting ROC Curves.\n",
    "y3_pred_proba = cnb.predict_proba(X3_test)[::,1]\n",
    "fpr3, tpr3, thresholds3 = metrics.roc_curve(y3_test, y3_pred_proba)\n",
    "auc3 = metrics.roc_auc_score(y3_test, y3_pred_proba)\n",
    "plt.plot(fpr3, tpr3, label=\"AUC(Non-Swapped Dataset)=\" +str(round(auc3*100,2)))\n",
    "\n",
    "#Labeling the axes approriately.\n",
    "plt.plot([0, 1], [0, 1], 'k--')\n",
    "plt.xlabel('False positive rate')\n",
    "plt.ylabel('True positive rate')\n",
    "plt.title(\"ROC curve Naive Baye's Classifier\")\n",
    "plt.legend(loc=4)\n",
    "plt.show()\n",
    "\n",
    "#Printing the confusion matrix details. \n",
    "tn1, fp1, fn1, tp1 = confusion_matrix(y1_test,y1_pred).ravel()\n",
    "tn2, fp2, fn2, tp2 = confusion_matrix(y2_test,y2_pred).ravel()\n",
    "tn3, fp3, fn3, tp3 = confusion_matrix(y3_test,y3_pred).ravel()\n",
    "print(\"(True neg, False pos, False neg, True Pos) for the three datasets respectively:\")\n",
    "(tn1, fp1, fn1, tp1),(tn2, fp2, fn2, tp2),(tn3, fp3, fn3, tp3)"
   ]
  },
  {
   "cell_type": "markdown",
   "metadata": {},
   "source": [
    "### Logistic Regression"
   ]
  },
  {
   "cell_type": "code",
   "execution_count": 27,
   "metadata": {},
   "outputs": [
    {
     "name": "stdout",
     "output_type": "stream",
     "text": [
      "Number of mislabeled points out of a total 78222 points for rank-swapped dataset : 5353\n",
      "accuracy:  0.9315665669504742\n",
      "Number of mislabeled points out of a total 78222 points for rank-swapped all columns dataset : 6327\n",
      "accuracy:  0.9191148270307586\n",
      "Number of mislabeled points out of a total 78222 points for non-swapped dataset: 5350\n",
      "accuracy:  0.9316049193321572\n"
     ]
    },
    {
     "data": {
      "image/png": "[encoded data removed]",
      "text/plain": [
       "<Figure size 410.4x307.44 with 1 Axes>"
      ]
     },
     "metadata": {},
     "output_type": "display_data"
    },
    {
     "name": "stdout",
     "output_type": "stream",
     "text": [
      "(True neg, False pos, False neg, True Pos) for the three datasets respectively:\n"
     ]
    },
    {
     "data": {
      "text/plain": [
       "((72814, 5294, 59, 55), (71807, 6301, 26, 88), (72805, 5303, 47, 67))"
      ]
     },
     "execution_count": 27,
     "metadata": {},
     "output_type": "execute_result"
    }
   ],
   "source": [
    "#Defining the classifier\n",
    "clf =LogisticRegression(max_iter=1000)\n",
    "\n",
    "#Fitting the data and making predictions.\n",
    "y1_pred = clf.fit(X1_train, y1_train).predict(X1_test)\n",
    "#Printing accuracy.\n",
    "print(\"Number of mislabeled points out of a total %d points for rank-swapped dataset : %d\" %(X1_test.shape[0], (y1_test != y1_pred).sum()))\n",
    "print(\"accuracy: \", metrics.accuracy_score(y1_test, y1_pred))\n",
    "\n",
    "#Plotting ROC Curves.\n",
    "y1_pred_proba = clf.predict_proba(X1_test)[::,1]\n",
    "fpr1, tpr1, thresholds1 = metrics.roc_curve(y1_test, y1_pred_proba)\n",
    "auc1 = metrics.roc_auc_score(y1_test, y1_pred_proba)\n",
    "plt.plot(fpr1, tpr1, label=\"AUC(Rank-Swapped Dataset)= \" +str(round(auc1*100,2)))\n",
    "\n",
    "#Fitting the data and making predictions.\n",
    "y2_pred = clf.fit(X2_train, y2_train).predict(X2_test)\n",
    "#Printing accuracy.\n",
    "print(\"Number of mislabeled points out of a total %d points for rank-swapped all columns dataset : %d\" %(X2_test.shape[0], (y2_test != y2_pred).sum()))\n",
    "print(\"accuracy: \", metrics.accuracy_score(y2_test, y2_pred))\n",
    "\n",
    "#Plotting ROC Curves.\n",
    "y2_pred_proba = clf.predict_proba(X2_test)[::,1]\n",
    "fpr2, tpr2, thresholds2 = metrics.roc_curve(y2_test, y2_pred_proba)\n",
    "auc2 = metrics.roc_auc_score(y2_test, y2_pred_proba)\n",
    "plt.plot(fpr2, tpr2, label=\"AUC(Rank-Swapped All Columns Dataset)=\" +str(round(auc2*100,2)))\n",
    "\n",
    "#Fitting the data and making predictions.\n",
    "y3_pred = clf.fit(X3_train, y3_train).predict(X3_test)\n",
    "#Printing accuracy.\n",
    "print(\"Number of mislabeled points out of a total %d points for non-swapped dataset: %d\" %(X3_test.shape[0], (y3_test != y3_pred).sum()))\n",
    "print(\"accuracy: \", metrics.accuracy_score(y3_test, y3_pred))\n",
    "\n",
    "#Plotting ROC Curves.\n",
    "y3_pred_proba = clf.predict_proba(X3_test)[::,1]\n",
    "fpr3, tpr3, thresholds3 = metrics.roc_curve(y3_test, y3_pred_proba)\n",
    "auc3 = metrics.roc_auc_score(y3_test, y3_pred_proba)\n",
    "plt.plot(fpr3, tpr3, label=\"AUC(Non-Swapped Dataset)=\" +str(round(auc3*100,2)))\n",
    "\n",
    "#Labeling the axes approriately.\n",
    "plt.plot([0, 1], [0, 1], 'k--')\n",
    "plt.xlabel('False positive rate')\n",
    "plt.ylabel('True positive rate')\n",
    "plt.title('ROC curve')\n",
    "plt.legend(loc=4)\n",
    "plt.show()\n",
    "\n",
    "#Printing the confusion matrix details. \n",
    "tn1, fp1, fn1, tp1 = confusion_matrix(y1_test,y1_pred).ravel()\n",
    "tn2, fp2, fn2, tp2 = confusion_matrix(y2_test,y2_pred).ravel()\n",
    "tn3, fp3, fn3, tp3 = confusion_matrix(y3_test,y3_pred).ravel()\n",
    "print(\"(True neg, False pos, False neg, True Pos) for the three datasets respectively:\")\n",
    "(tn1, fp1, fn1, tp1),(tn2, fp2, fn2, tp2),(tn3, fp3, fn3, tp3)"
   ]
  },
  {
   "cell_type": "markdown",
   "metadata": {},
   "source": [
    "### Gradient Boosting Classifier. "
   ]
  },
  {
   "cell_type": "code",
   "execution_count": 28,
   "metadata": {},
   "outputs": [
    {
     "name": "stdout",
     "output_type": "stream",
     "text": [
      "Number of mislabeled points out of a total 78222 points for rank-swapped dataset : 3734\n",
      "accuracy:  0.952264068932014\n",
      "Number of mislabeled points out of a total 78222 points for rank-swapped all columns dataset : 4392\n",
      "accuracy:  0.9438521132162307\n",
      "Number of mislabeled points out of a total 78222 points for non-swapped dataset: 2869\n",
      "accuracy:  0.9633223389839176\n"
     ]
    },
    {
     "data": {
      "image/png": "[encoded data removed]",
      "text/plain": [
       "<Figure size 410.4x307.44 with 1 Axes>"
      ]
     },
     "metadata": {},
     "output_type": "display_data"
    },
    {
     "name": "stdout",
     "output_type": "stream",
     "text": [
      "(True neg, False pos, False neg, True Pos) for the three datasets respectively:\n"
     ]
    },
    {
     "data": {
      "text/plain": [
       "((74415, 3693, 41, 73), (73767, 4341, 51, 63), (75286, 2822, 47, 67))"
      ]
     },
     "execution_count": 28,
     "metadata": {},
     "output_type": "execute_result"
    }
   ],
   "source": [
    "#Defining the classifier\n",
    "clf = GradientBoostingClassifier(n_estimators=10)\n",
    "\n",
    "#Fitting the data and making predictions.\n",
    "y1_pred = clf.fit(X1_train, y1_train).predict(X1_test)\n",
    "#Printing accuracy.\n",
    "print(\"Number of mislabeled points out of a total %d points for rank-swapped dataset : %d\" %(X1_test.shape[0], (y1_test != y1_pred).sum()))\n",
    "print(\"accuracy: \", metrics.accuracy_score(y1_test, y1_pred))\n",
    "\n",
    "#Plotting ROC Curves.\n",
    "y1_pred_proba = clf.predict_proba(X1_test)[::,1]\n",
    "fpr1, tpr1, thresholds1 = metrics.roc_curve(y1_test, y1_pred_proba)\n",
    "auc1 = metrics.roc_auc_score(y1_test, y1_pred_proba)\n",
    "plt.plot(fpr1, tpr1, label=\"AUC(Rank-Swapped Dataset)= \" +str(round(auc1*100,2)))\n",
    "\n",
    "#Fitting the data and making predictions.\n",
    "y2_pred = clf.fit(X2_train, y2_train).predict(X2_test)\n",
    "#Printing accuracy.\n",
    "print(\"Number of mislabeled points out of a total %d points for rank-swapped all columns dataset : %d\" %(X2_test.shape[0], (y2_test != y2_pred).sum()))\n",
    "print(\"accuracy: \", metrics.accuracy_score(y2_test, y2_pred))\n",
    "\n",
    "#Plotting ROC Curves.\n",
    "y2_pred_proba = clf.predict_proba(X2_test)[::,1]\n",
    "fpr2, tpr2, thresholds2 = metrics.roc_curve(y2_test, y2_pred_proba)\n",
    "auc2 = metrics.roc_auc_score(y2_test, y2_pred_proba)\n",
    "plt.plot(fpr2, tpr2, label=\"AUC(Rank-Swapped All Columns Dataset)=\" +str(round(auc2*100,2)))\n",
    "\n",
    "#Fitting the data and making predictions.\n",
    "y3_pred = clf.fit(X3_train, y3_train).predict(X3_test)\n",
    "#Printing accuracy.\n",
    "print(\"Number of mislabeled points out of a total %d points for non-swapped dataset: %d\" %(X3_test.shape[0], (y3_test != y3_pred).sum()))\n",
    "print(\"accuracy: \", metrics.accuracy_score(y3_test, y3_pred))\n",
    "\n",
    "#Plotting ROC Curves.\n",
    "y3_pred_proba = clf.predict_proba(X3_test)[::,1]\n",
    "fpr3, tpr3, thresholds3 = metrics.roc_curve(y3_test, y3_pred_proba)\n",
    "auc3 = metrics.roc_auc_score(y3_test, y3_pred_proba)\n",
    "plt.plot(fpr3, tpr3, label=\"AUC(Non-Swapped Dataset)=\" +str(round(auc3*100,2)))\n",
    "\n",
    "#Labeling the axes approriately.\n",
    "plt.plot([0, 1], [0, 1], 'k--')\n",
    "plt.xlabel('False positive rate')\n",
    "plt.ylabel('True positive rate')\n",
    "plt.title('ROC curve Gradient Boosting Classifier')\n",
    "plt.legend(loc=4)\n",
    "plt.show()\n",
    "\n",
    "#Printing the confusion matrix details. \n",
    "tn1, fp1, fn1, tp1 = confusion_matrix(y1_test,y1_pred).ravel()\n",
    "tn2, fp2, fn2, tp2 = confusion_matrix(y2_test,y2_pred).ravel()\n",
    "tn3, fp3, fn3, tp3 = confusion_matrix(y3_test,y3_pred).ravel()\n",
    "print(\"(True neg, False pos, False neg, True Pos) for the three datasets respectively:\")\n",
    "(tn1, fp1, fn1, tp1),(tn2, fp2, fn2, tp2),(tn3, fp3, fn3, tp3)"
   ]
  },
  {
   "cell_type": "markdown",
   "metadata": {},
   "source": [
    "### 3b. Performance Analysis and Explaination for Differences within the Classifiers."
   ]
  },
  {
   "cell_type": "markdown",
   "metadata": {},
   "source": [
    "#### Naive Baye's Classifier-\n",
    "\n",
    "Here I've used the complement naive baye's classifier which as mentioned in the sklearn documentation treats every variable as having a multinomial distribution which is in agreement with the kind of variables we have in our dataset as they are mostly categorical in nature. Additionally, this classifier is also well suited for class imbalances as well. I would like to mention that this model correctly classified almost all positive cases of fraud(113/114) in the test set for the (all-columns) rank-swapped dataset. However this comes at the cost of too many false positives(13375) as well which is expected as this classifier has a high bias in general due to it's strong(\"naive\") probabilistic assumptions about features being independent. \n",
    "Furthermore, for this classifier, we see that the area under the ROC curve is highest for the dataset with all the columns being rank-swapped(93.64%). These results were quite surprising initially but I believe that this result can be explained by the fact that re-ordering all columns instead of just the few ordinal columns makes the entire dataset a bit more homogenous as compared to performing rank-swapping for just the ordinal ones, making it less noisy and perhaps making it easier for the model to learn as well. In terms of accuracy, we actually see that rank-swapped data with just the ordinal columns being swapped does best but we know that accuracy is a misleading metric when it comes to such an imbalanced dataset. Lastly, we see that the overall performance of this classifier as compared to the rest is quite poor.  \n",
    "\n",
    "#### Logistic Classifier-\n",
    "\n",
    "Stepping into a stronger classifier, the logistic classifier maximizes the data likelihood(assuming data points are I.I.D) to choose the best set of parameters for the model using the gradient descent method. And so I've set max_iter to be 1000 for it to converge to the correct parameter settings. This model has been known to work well for binary classification problems in practice as it assumes the labels to follow a bernoulli distribution(binary labels i.e Fraud or Not) and doesn't make strict probabilistic assumptions as mentioned previously(has less bias basically). Indeed, we see that it already does considerably better than the naive baye's classifier which is expected. Here we see that the ROC curve is similarly best for rank-swapping the entire dataset as well(94.52%). We also observe that for the (all-columns) rank-swapped dataset, it is able to correctly classify 88 out of 114 cases of fraud but with 6301 false positives which is much lesser than the previous classifier(less than half!). In terms of accuracy, we see that it's better than Naive Baye's ofcourse and we also see that the dataset which contains no rankswapping actually attains the best accuracy in this case which is closely followed by the dataset on which we only rank-swap ordinal columns.  \n",
    "\n",
    "#### Gradient Boosting Classifier-\n",
    "Last but definitely not the least, I've used the Gradient Boosting Classifier which is an ensemble model meaning that it comprises of multiple weak learners to finally output a good prediction. This type of classifier relies on decision trees which are incrementally added over time and whose parameters are adjusted based on similar gradient descent optimization techniques which aim to minimize the error or overall loss of the model. This model actually outperforms both the previous classifiers in terms of accuracy and has the overall highest area under the ROC curve. Furthermore we see that, it is able to correctly classify 73 out of 114 cases of fraud in the test set and does so with the least number of false positives(3693) on the ranked-swapped data. Unlike previous classifiers, we see that the highest AUC is not for the all-columns ranked swapped dataset but the dataset where we only rank-swap ordinal columns(95.01). I do not yet have an explanation for this to be frank. But I suspect that this model is much more flexible(higher variance and lesser bias) than the previous models and so is able to get distubred more easily by all-columns being rank swapped thereby slightly hurting performance as compared to the other models. \n",
    "\n",
    "\n",
    "*Kindly note that the values mentioned here will change slightly based on running the code again*"
   ]
  },
  {
   "cell_type": "markdown",
   "metadata": {},
   "source": [
    "### 3c. Is it advisable to protect people’s privacy using rank-swapping? Why (not)?"
   ]
  },
  {
   "cell_type": "markdown",
   "metadata": {},
   "source": [
    "Based on my results, I would say that performing rank swapping doesn't seem to hurt performance at all. Infact, I see that it sometimes results in a higher area under the ROC curve. Hence, based on my results I believe rank swapping is a good overall method for protecting people's privacy as it still allows researchers to use the data effectively without comprising on ethical concerns of privacy by disordering and thereby masking particularly sensitive personal information for a given row. In addition it's relatively easy to implement and can be used independently on different columns of the dataset. Furthermore, the fact that the user can also adjust the percentage of total rows for which two ranked values in a column can be swapped makes it possible to better suit the needs of a wide variety of datasets. Lastly, we also see that with the percentage set to 10% as I have, even sub sampling the data randomly didn't destroy the multi-variate statistics of the sampled data and the same also goes for the number of columns being rank-swapped. (*I'm basing this purely on my results obtained from the different classifiers*). "
   ]
  },
  {
   "cell_type": "code",
   "execution_count": null,
   "metadata": {},
   "outputs": [],
   "source": []
  }
 ],
 "metadata": {
  "kernelspec": {
   "display_name": "Python 3",
   "language": "python",
   "name": "python3"
  },
  "language_info": {
   "codemirror_mode": {
    "name": "ipython",
    "version": 3
   },
   "file_extension": ".py",
   "mimetype": "text/x-python",
   "name": "python",
   "nbconvert_exporter": "python",
   "pygments_lexer": "ipython3",
   "version": "3.7.3"
  }
 },
 "nbformat": 4,
 "nbformat_minor": 2
}
