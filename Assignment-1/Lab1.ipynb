{
 "cells": [
  {
   "cell_type": "markdown",
   "metadata": {},
   "source": [
    "# CS4035 - Cyber Data Analytics\n",
    "## Lab 1 - Fraud data"
   ]
  },
  {
   "cell_type": "markdown",
   "metadata": {},
   "source": [
    "### Submit on brightspace (zip file with the name Group_xx.zip)\n",
    "(i) This jupyter file completed with code, plots, figures and report for each question. Additional plots and figures can be created for explanation before the end of each main question. Lab 1 contains 5 main questions, including the bonus. Write the code or explanation below each sub question. For the explantions, include what you would normally include in the report for this lab assignment, for example data pre-processing, hypothesis tested, approach, results, etc.\n",
    "(ii) A PDF or a Word report for the assignment. Create a report from the plots, figures, tables and the write-up that you provide in this jupyter file. The report will be used as a proof for page limit. \n",
    "(iii) The libraries needed to run this file. \n",
    "\n",
    "Your peers should be able to use the readme section for instructions and be able to run this file. "
   ]
  },
  {
   "cell_type": "markdown",
   "metadata": {},
   "source": [
    "## Group Number : 25"
   ]
  },
  {
   "cell_type": "markdown",
   "metadata": {},
   "source": [
    "## Student 1 \n",
    "### Name : Aditya Kunar\n",
    "### ID :"
   ]
  },
  {
   "cell_type": "markdown",
   "metadata": {},
   "source": [
    "## Student 2\n",
    "### Name : Anwesh Marwade\n",
    "### ID : 5052068"
   ]
  },
  {
   "cell_type": "markdown",
   "metadata": {},
   "source": [
    "## Readme - Provide instructions - libraries used, location of the data file, etc. Keep it short. Remember your peers will not debug your code and should be able to reproduce the exact output you provide."
   ]
  },
  {
   "cell_type": "code",
   "execution_count": 1,
   "metadata": {},
   "outputs": [],
   "source": [
    "import numpy as np\n",
    "import pandas as pd\n",
    "import seaborn as sns\n",
    "import matplotlib.pyplot as plt\n",
    "from sklearn.preprocessing import LabelEncoder\n",
    "from sklearn.preprocessing import StandardScaler\n",
    "from sklearn.decomposition import PCA\n",
    "import re"
   ]
  },
  {
   "cell_type": "markdown",
   "metadata": {},
   "source": [
    "## Preprocess"
   ]
  },
  {
   "cell_type": "code",
   "execution_count": 14,
   "metadata": {},
   "outputs": [],
   "source": [
    "def conv(row):\n",
    "    currency_dict = {\"BGN\": 1.9558, \"NZD\": 1.6805, \"ILS\": 4.0448, \"RUB\": 72.2099, \"CAD\": 1.5075, \"USD\": 1.1218,\n",
    "                     \"PHP\": 58.125, \"CHF\": 1.1437, \"ZAR\": 16.0224, \"AUD\": 1.5911, \"JPY\": 124.93, \"TRY\": 6.6913,\n",
    "                     \"HKD\": 8.8007, \"MYR\": 4.6314, \"THB\": 35.802, \"HRK\": 7.413, \"NOK\": 9.6678, \"IDR\": 15953.68,\n",
    "                     \"DKK\": 7.4646, \"CZK\": 25.659, \"HUF\": 322.97, \"GBP\": 0.86248, \"MXN\": 21.2829, \"KRW\": 1308.01,\n",
    "                     \"ISK\": 136.2, \"SGD\": 1.5263, \"BRL\": 4.405, \"PLN\": 4.2868, \"INR\": 78.0615, \"RON\": 4.7596,\n",
    "                     \"CNY\": 7.5541, \"SEK\": 10.635}\n",
    "    return row['amount'] / (currency_dict[row['currencycode']]*100)\n",
    "\n",
    "def preprocess(df):\n",
    "    df1 = df.copy(deep=True)\n",
    "    df1 = df1.loc[~(df1['simple_journal'] == 'Refused')]\n",
    "    df1.loc[df1['simple_journal'] == 'Chargeback', 'simple_journal'] = 1 #fraud\n",
    "    df1.loc[df1['simple_journal'] == 'Settled', 'simple_journal'] = 0\n",
    "\n",
    "    df1.loc[df1['cardverificationcodesupplied'].isna(),'cardverificationcodesupplied'] = False\n",
    "    df1.loc[df1['issuercountrycode'].isna(),'issuercountrycode'] = 'ZZ'\n",
    "    df1.loc[df1['shoppercountrycode'].isna(),'shoppercountrycode'] = 'ZZ'\n",
    "\n",
    "    bin_enc = LabelEncoder()\n",
    "    bin_enc.fit(df1['bin'].unique())\n",
    "    df1['bin'] = bin_enc.transform(df1.bin)\n",
    "\n",
    "\n",
    "    card_enc = LabelEncoder()\n",
    "    card_enc.fit(df1['card_id'])\n",
    "    df1['card_id'] = card_enc.transform(df1.card_id)\n",
    "\n",
    "    ip_enc = LabelEncoder()\n",
    "    ip_enc.fit(df1['ip_id'])\n",
    "    df1['ip_id'] = ip_enc.transform(df1.ip_id)\n",
    "\n",
    "    df1['creationdate'] = pd.to_datetime(df1['creationdate'])\n",
    "    df1['date'] = df1['creationdate'].dt.date\n",
    "\n",
    "    unique_issuer_cc = df1['issuercountrycode'].unique()\n",
    "    unique_shopper_cc = df1['shoppercountrycode'].unique()\n",
    "    both = np.append(unique_issuer_cc, unique_shopper_cc)\n",
    "    df_countrycodes = pd.DataFrame(both)\n",
    "    unique_codes = df_countrycodes[0].unique()\n",
    "    enc = LabelEncoder()\n",
    "    enc.fit(unique_codes)\n",
    "    df1['issuercountrycode'] = enc.transform(df1.issuercountrycode)\n",
    "    df1['shoppercountrycode'] = enc.transform(df1.shoppercountrycode)\n",
    "    \n",
    "    df1['amount_eur'] = df1.apply(lambda x: conv(x), axis=1)\n",
    "\n",
    "    enc1 = LabelEncoder()\n",
    "    enc1.fit(df1['txvariantcode'])\n",
    "    df1['txvariantcode'] = enc1.transform(df1.txvariantcode)\n",
    "\n",
    "    enc2 = LabelEncoder()\n",
    "    enc2.fit(df1['currencycode'])\n",
    "    df1['currencycode'] = enc2.transform(df1.currencycode)\n",
    "\n",
    "    enc3 = LabelEncoder()\n",
    "    enc3.fit(df1['shopperinteraction'])\n",
    "    df1['shopperinteraction'] = enc3.transform(df1.shopperinteraction)\n",
    "\n",
    "    df1['accountcode'] = df1['accountcode'].apply(lambda x: re.sub('Account','',x))\n",
    "    df1['accountcode_cc'] = 0\n",
    "    df1.loc[(df1['accountcode'] == 'UK'),'accountcode_cc'] = 'GB'\n",
    "    df1.loc[(df1['accountcode'] == 'Mexico'),'accountcode_cc'] = 'MX'\n",
    "    df1.loc[(df1['accountcode'] == 'Sweden'),'accountcode_cc'] = 'SE'\n",
    "    df1.loc[(df1['accountcode'] == 'APAC'),'accountcode_cc'] = 'APAC'\n",
    "\n",
    "    enc4 = LabelEncoder()\n",
    "    enc4.fit(df1['accountcode'])\n",
    "    df1['accountcode'] = enc4.transform(df1.accountcode)\n",
    "\n",
    "    enc5 = LabelEncoder()\n",
    "    enc5.fit(df1['cardverificationcodesupplied'])\n",
    "    df1['cardverificationcodesupplied'] = enc5.transform(df1.cardverificationcodesupplied)\n",
    "\n",
    "    df1.loc[df1['mail_id'].str.contains('na',case=False),'mail_id'] = 'email99999'\n",
    "\n",
    "    enc6 = LabelEncoder()\n",
    "    enc6.fit(df1['mail_id'])\n",
    "    df1['mail_id'] = enc6.transform(df1.mail_id)\n",
    "\n",
    "    df1['bookingdate'] = pd.to_datetime(df1['bookingdate'])\n",
    "\n",
    "    df1.loc[df1['cvcresponsecode'] > 2,'cvcresponsecode'] = 3\n",
    "\n",
    "    df1['countries_equal'] = (df1['shoppercountrycode'] == df1['issuercountrycode'])\n",
    "    df1.loc[df1['countries_equal'] == False,'countries_equal'] = 0\n",
    "    df1.loc[df1['countries_equal'] == True,'countries_equal'] = 1\n",
    "\n",
    "    df1['day_of_week'] = df1['creationdate'].dt.dayofweek\n",
    "\n",
    "    df1['hour'] = df1['creationdate'].dt.hour\n",
    "\n",
    "    dates= df1[\"creationdate\"]\n",
    "    dates=pd.DatetimeIndex(dates)\n",
    "    dates=dates.astype(np.int64) // 10**9\n",
    "    df1['creationdate']=dates\n",
    "    \n",
    "    return df1"
   ]
  },
  {
   "cell_type": "code",
   "execution_count": 15,
   "metadata": {},
   "outputs": [],
   "source": [
    "data = \"data_for_student_case.csv\"\n",
    "df = pd.read_csv(data)\n",
    "\n",
    "df1 = preprocess(df)"
   ]
  },
  {
   "cell_type": "markdown",
   "metadata": {},
   "source": [
    "## 1. Visualization task – 1 A4"
   ]
  },
  {
   "cell_type": "markdown",
   "metadata": {},
   "source": [
    "### 1a. Plot visulations "
   ]
  },
  {
   "cell_type": "code",
   "execution_count": 16,
   "metadata": {},
   "outputs": [
    {
     "data": {
      "text/plain": [
       "Index(['txid', 'bookingdate', 'issuercountrycode', 'txvariantcode', 'bin',\n",
       "       'amount', 'currencycode', 'shoppercountrycode', 'shopperinteraction',\n",
       "       'simple_journal', 'cardverificationcodesupplied', 'cvcresponsecode',\n",
       "       'creationdate', 'accountcode', 'mail_id', 'ip_id', 'card_id', 'date',\n",
       "       'amount_eur', 'accountcode_cc', 'countries_equal', 'day_of_week',\n",
       "       'hour'],\n",
       "      dtype='object')"
      ]
     },
     "execution_count": 16,
     "metadata": {},
     "output_type": "execute_result"
    }
   ],
   "source": [
    "df1.columns"
   ]
  },
  {
   "cell_type": "markdown",
   "metadata": {},
   "source": [
    "### 1b. Describe the visualizations and provide relavant explanations of features and relations."
   ]
  },
  {
   "cell_type": "code",
   "execution_count": null,
   "metadata": {},
   "outputs": [],
   "source": []
  },
  {
   "cell_type": "markdown",
   "metadata": {},
   "source": [
    "## 2. Imbalance task – 1 A4 – Individual"
   ]
  },
  {
   "cell_type": "code",
   "execution_count": 17,
   "metadata": {},
   "outputs": [],
   "source": [
    "'''\n",
    "SMOTE function:\n",
    "T => Number of minority Samples available\n",
    "N => No. synthetic samples to be generated (in % of T)\n",
    "k => No. of nearest neighbours to be considered\n",
    "returns a list of synthetic samples\n",
    "'''\n",
    "\n",
    "import random\n",
    "import math\n",
    "\n",
    "def smote(T,N,k):\n",
    "#     if N < 100, sample from random percent of minority instances\n",
    "    if N < 100:\n",
    "        T = (N/100) * T\n",
    "        N = 100 # since we changed T now, make N = 100\n",
    "        \n",
    "#     N controls the number of synthetic samples generated per data point\n",
    "    N = (int)(N/100)\n",
    "    synthetic_samples = list()\n",
    "    \n",
    "    for i in range(T):\n",
    "        counter = N\n",
    "        nn_list = k_neighbors(minority_samples[i], minority_samples, k)\n",
    "        while counter:\n",
    "            rand_nn = random.randint(1, len(nn_list))\n",
    "            sample_row = []\n",
    "            for attr in range(len(minority_samples[i])):\n",
    "                diff = minority_samples[rand_nn][attr] - minority_samples[i][attr]\n",
    "                rand_gap = random.uniform(0, 1)\n",
    "                sample_row.append(int(minority_samples[i][attr] + rand_gap*diff))\n",
    "            synthetic_samples.append    \n",
    "            synthetic_samples.append(sample_row)\n",
    "            counter = counter - 1\n",
    "    \n",
    "    return synthetic_samples\n",
    "\n",
    "def k_neighbors(curr_row, data, k):\n",
    "    dist_list = list()\n",
    "    for idx in range(len(data)):\n",
    "        dist = euclidean_distance(curr_row, data[idx])\n",
    "        dist_list.append((idx, dist))\n",
    "        \n",
    "    dist_list.sort(key=lambda tup: tup[1])\n",
    "    k_neighbours = list()\n",
    "    \n",
    "    for i in range(k):\n",
    "        k_neighbours.append(dist_list[i][0])\n",
    "        \n",
    "    return k_neighbours\n",
    "    \n",
    "# calculate the Euclidean distance between two vectors\n",
    "def euclidean_distance(row1, row2):\n",
    "    distance = 0.0\n",
    "    for i in range(len(row1)):\n",
    "        distance += (row1[i] - row2[i])**2\n",
    "    return math.sqrt(distance)"
   ]
  },
  {
   "cell_type": "code",
   "execution_count": 19,
   "metadata": {},
   "outputs": [
    {
     "data": {
      "text/html": [
       "<div>\n",
       "<style scoped>\n",
       "    .dataframe tbody tr th:only-of-type {\n",
       "        vertical-align: middle;\n",
       "    }\n",
       "\n",
       "    .dataframe tbody tr th {\n",
       "        vertical-align: top;\n",
       "    }\n",
       "\n",
       "    .dataframe thead th {\n",
       "        text-align: right;\n",
       "    }\n",
       "</style>\n",
       "<table border=\"1\" class=\"dataframe\">\n",
       "  <thead>\n",
       "    <tr style=\"text-align: right;\">\n",
       "      <th></th>\n",
       "      <th>issuercountrycode</th>\n",
       "      <th>txvariantcode</th>\n",
       "      <th>bin</th>\n",
       "      <th>amount</th>\n",
       "      <th>currencycode</th>\n",
       "      <th>shoppercountrycode</th>\n",
       "      <th>shopperinteraction</th>\n",
       "      <th>simple_journal</th>\n",
       "      <th>cardverificationcodesupplied</th>\n",
       "      <th>cvcresponsecode</th>\n",
       "      <th>creationdate</th>\n",
       "      <th>accountcode</th>\n",
       "      <th>mail_id</th>\n",
       "      <th>ip_id</th>\n",
       "      <th>card_id</th>\n",
       "      <th>amount_eur</th>\n",
       "      <th>countries_equal</th>\n",
       "      <th>day_of_week</th>\n",
       "      <th>hour</th>\n",
       "    </tr>\n",
       "  </thead>\n",
       "  <tbody>\n",
       "    <tr>\n",
       "      <td>0</td>\n",
       "      <td>104</td>\n",
       "      <td>2</td>\n",
       "      <td>1975</td>\n",
       "      <td>91859</td>\n",
       "      <td>2</td>\n",
       "      <td>104</td>\n",
       "      <td>1</td>\n",
       "      <td>1</td>\n",
       "      <td>1</td>\n",
       "      <td>0</td>\n",
       "      <td>1435802130</td>\n",
       "      <td>1</td>\n",
       "      <td>128641</td>\n",
       "      <td>7593</td>\n",
       "      <td>115485</td>\n",
       "      <td>63</td>\n",
       "      <td>1</td>\n",
       "      <td>2</td>\n",
       "      <td>18</td>\n",
       "    </tr>\n",
       "    <tr>\n",
       "      <td>1</td>\n",
       "      <td>104</td>\n",
       "      <td>2</td>\n",
       "      <td>2364</td>\n",
       "      <td>44900</td>\n",
       "      <td>2</td>\n",
       "      <td>104</td>\n",
       "      <td>1</td>\n",
       "      <td>1</td>\n",
       "      <td>1</td>\n",
       "      <td>0</td>\n",
       "      <td>1435812655</td>\n",
       "      <td>1</td>\n",
       "      <td>834</td>\n",
       "      <td>194109</td>\n",
       "      <td>44739</td>\n",
       "      <td>21</td>\n",
       "      <td>1</td>\n",
       "      <td>3</td>\n",
       "      <td>4</td>\n",
       "    </tr>\n",
       "    <tr>\n",
       "      <td>2</td>\n",
       "      <td>104</td>\n",
       "      <td>2</td>\n",
       "      <td>1965</td>\n",
       "      <td>149900</td>\n",
       "      <td>2</td>\n",
       "      <td>104</td>\n",
       "      <td>1</td>\n",
       "      <td>1</td>\n",
       "      <td>1</td>\n",
       "      <td>0</td>\n",
       "      <td>1435847428</td>\n",
       "      <td>1</td>\n",
       "      <td>119287</td>\n",
       "      <td>189655</td>\n",
       "      <td>122802</td>\n",
       "      <td>70</td>\n",
       "      <td>1</td>\n",
       "      <td>3</td>\n",
       "      <td>14</td>\n",
       "    </tr>\n",
       "    <tr>\n",
       "      <td>3</td>\n",
       "      <td>104</td>\n",
       "      <td>2</td>\n",
       "      <td>2370</td>\n",
       "      <td>51134</td>\n",
       "      <td>2</td>\n",
       "      <td>104</td>\n",
       "      <td>1</td>\n",
       "      <td>1</td>\n",
       "      <td>1</td>\n",
       "      <td>0</td>\n",
       "      <td>1435875606</td>\n",
       "      <td>1</td>\n",
       "      <td>12789</td>\n",
       "      <td>12871</td>\n",
       "      <td>55431</td>\n",
       "      <td>50</td>\n",
       "      <td>1</td>\n",
       "      <td>3</td>\n",
       "      <td>4</td>\n",
       "    </tr>\n",
       "    <tr>\n",
       "      <td>4</td>\n",
       "      <td>104</td>\n",
       "      <td>2</td>\n",
       "      <td>1958</td>\n",
       "      <td>106338</td>\n",
       "      <td>2</td>\n",
       "      <td>104</td>\n",
       "      <td>1</td>\n",
       "      <td>1</td>\n",
       "      <td>1</td>\n",
       "      <td>0</td>\n",
       "      <td>1436020088</td>\n",
       "      <td>1</td>\n",
       "      <td>118153</td>\n",
       "      <td>195548</td>\n",
       "      <td>199489</td>\n",
       "      <td>57</td>\n",
       "      <td>1</td>\n",
       "      <td>2</td>\n",
       "      <td>17</td>\n",
       "    </tr>\n",
       "  </tbody>\n",
       "</table>\n",
       "</div>"
      ],
      "text/plain": [
       "   issuercountrycode  txvariantcode   bin  amount  currencycode  \\\n",
       "0                104              2  1975   91859             2   \n",
       "1                104              2  2364   44900             2   \n",
       "2                104              2  1965  149900             2   \n",
       "3                104              2  2370   51134             2   \n",
       "4                104              2  1958  106338             2   \n",
       "\n",
       "   shoppercountrycode  shopperinteraction  simple_journal  \\\n",
       "0                 104                   1               1   \n",
       "1                 104                   1               1   \n",
       "2                 104                   1               1   \n",
       "3                 104                   1               1   \n",
       "4                 104                   1               1   \n",
       "\n",
       "   cardverificationcodesupplied  cvcresponsecode  creationdate  accountcode  \\\n",
       "0                             1                0    1435802130            1   \n",
       "1                             1                0    1435812655            1   \n",
       "2                             1                0    1435847428            1   \n",
       "3                             1                0    1435875606            1   \n",
       "4                             1                0    1436020088            1   \n",
       "\n",
       "   mail_id   ip_id  card_id  amount_eur  countries_equal  day_of_week  hour  \n",
       "0   128641    7593   115485          63                1            2    18  \n",
       "1      834  194109    44739          21                1            3     4  \n",
       "2   119287  189655   122802          70                1            3    14  \n",
       "3    12789   12871    55431          50                1            3     4  \n",
       "4   118153  195548   199489          57                1            2    17  "
      ]
     },
     "execution_count": 19,
     "metadata": {},
     "output_type": "execute_result"
    }
   ],
   "source": [
    "# Shape the data and apply SMOTE\n",
    "\n",
    "df_minority = df1.loc[df1['simple_journal'] == 1]\n",
    "df_minority.drop(columns=['txid','bookingdate','date','accountcode_cc'],inplace=True)\n",
    "minority_samples = np.array(df_minority)\n",
    "\n",
    "synthetic_samples = smote(len(minority_samples), 100, 2)\n",
    "synthetic=pd.DataFrame(synthetic_samples,columns=['issuercountrycode', 'txvariantcode', 'bin', 'amount', \n",
    "                                            'currencycode', 'shoppercountrycode', 'shopperinteraction',\n",
    "                                            'simple_journal',\n",
    "                                            'cardverificationcodesupplied', 'cvcresponsecode','creationdate', 'accountcode',\n",
    "                                            'mail_id', 'ip_id', 'card_id', 'amount_eur', 'countries_equal', \n",
    "                                            'day_of_week', 'hour'])  \n",
    "synthetic.head()"
   ]
  },
  {
   "cell_type": "code",
   "execution_count": 39,
   "metadata": {},
   "outputs": [
    {
     "name": "stdout",
     "output_type": "stream",
     "text": [
      "False\n"
     ]
    },
    {
     "data": {
      "image/png": "[encoded data removed]",
      "text/plain": [
       "<Figure size 432x288 with 2 Axes>"
      ]
     },
     "metadata": {
      "needs_background": "light"
     },
     "output_type": "display_data"
    },
    {
     "data": {
      "image/png": "[encoded data removed]",
      "text/plain": [
       "<Figure size 432x288 with 2 Axes>"
      ]
     },
     "metadata": {
      "needs_background": "light"
     },
     "output_type": "display_data"
    }
   ],
   "source": [
    "# Scatter Plots\n",
    "ax1 = df1.plot.scatter(x='txid', y='amount', c='simple_journal', colormap='viridis')\n",
    "synthetic.reset_index().plot.scatter(x='index', y='amount', c='simple_journal', colormap='viridis')\n"
   ]
  },
  {
   "cell_type": "markdown",
   "metadata": {},
   "source": [
    "### 2a. Print ROC curves"
   ]
  },
  {
   "cell_type": "code",
   "execution_count": null,
   "metadata": {},
   "outputs": [],
   "source": []
  },
  {
   "cell_type": "markdown",
   "metadata": {},
   "source": [
    "### 2b. Analyse the performance of the classifiers. Explain which method performs best."
   ]
  },
  {
   "cell_type": "code",
   "execution_count": null,
   "metadata": {},
   "outputs": [],
   "source": []
  },
  {
   "cell_type": "markdown",
   "metadata": {},
   "source": [
    "### 2c. Is using SMOTE a good idea? Why (not)?"
   ]
  },
  {
   "cell_type": "code",
   "execution_count": null,
   "metadata": {},
   "outputs": [],
   "source": []
  },
  {
   "cell_type": "markdown",
   "metadata": {},
   "source": [
    "## 3. Privacy task – 1 A4 – Individual"
   ]
  },
  {
   "cell_type": "markdown",
   "metadata": {},
   "source": [
    "### 3a. Print ROC curves"
   ]
  },
  {
   "cell_type": "code",
   "execution_count": null,
   "metadata": {},
   "outputs": [],
   "source": []
  },
  {
   "cell_type": "markdown",
   "metadata": {},
   "source": [
    "### 3b. Analyse the performance of the classifiers. Explain which method performs best."
   ]
  },
  {
   "cell_type": "code",
   "execution_count": null,
   "metadata": {},
   "outputs": [],
   "source": []
  },
  {
   "cell_type": "markdown",
   "metadata": {},
   "source": [
    "### 3c. Can you explain the performance difference for the different classifiers? Is it advisable to protect people’s privacy using rank-swapping? Why (not)?"
   ]
  },
  {
   "cell_type": "code",
   "execution_count": null,
   "metadata": {},
   "outputs": [],
   "source": []
  },
  {
   "cell_type": "markdown",
   "metadata": {},
   "source": [
    "## 4. Classification task – 2 A4"
   ]
  },
  {
   "cell_type": "markdown",
   "metadata": {},
   "source": [
    "### 4a. Print relevant plots and metrics with clear headings."
   ]
  },
  {
   "cell_type": "code",
   "execution_count": null,
   "metadata": {},
   "outputs": [],
   "source": []
  },
  {
   "cell_type": "markdown",
   "metadata": {},
   "source": [
    "### 4b. Explain the applied data pre-processing steps, learning algorithms, and post-processing steps or ensemble methods. Compare the performance of the two algorithms, focusing on performance criteria that are relevant in practice, use 10-fold cross-validation."
   ]
  },
  {
   "cell_type": "code",
   "execution_count": null,
   "metadata": {},
   "outputs": [],
   "source": []
  },
  {
   "cell_type": "markdown",
   "metadata": {},
   "source": [
    "## 5. Bonus task – 1 A4"
   ]
  },
  {
   "cell_type": "markdown",
   "metadata": {},
   "source": [
    "### 5a. Provide code and report below"
   ]
  },
  {
   "cell_type": "code",
   "execution_count": null,
   "metadata": {},
   "outputs": [],
   "source": []
  }
 ],
 "metadata": {
  "kernelspec": {
   "display_name": "Python 3",
   "language": "python",
   "name": "python3"
  },
  "language_info": {
   "codemirror_mode": {
    "name": "ipython",
    "version": 3
   },
   "file_extension": ".py",
   "mimetype": "text/x-python",
   "name": "python",
   "nbconvert_exporter": "python",
   "pygments_lexer": "ipython3",
   "version": "3.7.4"
  }
 },
 "nbformat": 4,
 "nbformat_minor": 2
}
